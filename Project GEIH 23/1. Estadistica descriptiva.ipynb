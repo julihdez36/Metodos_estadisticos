{
 "cells": [
  {
   "cell_type": "code",
   "execution_count": 1,
   "metadata": {},
   "outputs": [],
   "source": [
    "# Importación de librerías\n",
    "\n",
    "import numpy as np\n",
    "import pandas as pd\n",
    "import matplotlib.pyplot as plt\n",
    "import seaborn as sns\n",
    "import os"
   ]
  },
  {
   "cell_type": "code",
   "execution_count": 2,
   "metadata": {},
   "outputs": [],
   "source": [
    "os.chdir('c:\\\\Users\\\\Julian\\\\Desktop\\\\Cursos\\\\Cursos Github\\\\Metodos_estadisticos')"
   ]
  },
  {
   "cell_type": "code",
   "execution_count": 3,
   "metadata": {},
   "outputs": [],
   "source": [
    "df = pd.read_csv('Data sets\\\\datos.csv')"
   ]
  },
  {
   "cell_type": "code",
   "execution_count": 4,
   "metadata": {},
   "outputs": [
    {
     "name": "stdout",
     "output_type": "stream",
     "text": [
      "Index(['primary_key', 'MES_x', 'CLASE_x', 'FEX_C18_x', 'DPTO_x', 'SEXO',\n",
      "       'EDAD', 'CAMPESINO', 'CULTURA', 'EST_CIVIL', 'LEE', 'NIVEL_EDUC',\n",
      "       'EDUC', 'NIVEL_EDUC_CAT', 'MES_y', 'CLASE_y', 'FEX_C18_y', 'DPTO_y',\n",
      "       'contrato', 'contrato_verbal', 'termino_contrato', 'misma_empresa',\n",
      "       'tiempo_trabajo', 'puesto', 'empresa_registrada', 'salario_bruto',\n",
      "       'hora_semanales', 'no_empleados', 'RAMA2D_R4', 'INGLABO', 'RAMA4D_R4',\n",
      "       'OFICIO_C8'],\n",
      "      dtype='object')\n"
     ]
    },
    {
     "data": {
      "text/html": [
       "<div>\n",
       "<style scoped>\n",
       "    .dataframe tbody tr th:only-of-type {\n",
       "        vertical-align: middle;\n",
       "    }\n",
       "\n",
       "    .dataframe tbody tr th {\n",
       "        vertical-align: top;\n",
       "    }\n",
       "\n",
       "    .dataframe thead th {\n",
       "        text-align: right;\n",
       "    }\n",
       "</style>\n",
       "<table border=\"1\" class=\"dataframe\">\n",
       "  <thead>\n",
       "    <tr style=\"text-align: right;\">\n",
       "      <th></th>\n",
       "      <th>primary_key</th>\n",
       "      <th>MES_x</th>\n",
       "      <th>CLASE_x</th>\n",
       "      <th>FEX_C18_x</th>\n",
       "      <th>DPTO_x</th>\n",
       "      <th>SEXO</th>\n",
       "      <th>EDAD</th>\n",
       "      <th>CAMPESINO</th>\n",
       "      <th>CULTURA</th>\n",
       "      <th>EST_CIVIL</th>\n",
       "      <th>...</th>\n",
       "      <th>tiempo_trabajo</th>\n",
       "      <th>puesto</th>\n",
       "      <th>empresa_registrada</th>\n",
       "      <th>salario_bruto</th>\n",
       "      <th>hora_semanales</th>\n",
       "      <th>no_empleados</th>\n",
       "      <th>RAMA2D_R4</th>\n",
       "      <th>INGLABO</th>\n",
       "      <th>RAMA4D_R4</th>\n",
       "      <th>OFICIO_C8</th>\n",
       "    </tr>\n",
       "  </thead>\n",
       "  <tbody>\n",
       "    <tr>\n",
       "      <th>62981</th>\n",
       "      <td>7628544-1-2-1</td>\n",
       "      <td>diciembre</td>\n",
       "      <td>1</td>\n",
       "      <td>215.029801</td>\n",
       "      <td>Meta</td>\n",
       "      <td>Hombre</td>\n",
       "      <td>23</td>\n",
       "      <td>2</td>\n",
       "      <td>6</td>\n",
       "      <td>Pareja &gt;= 2</td>\n",
       "      <td>...</td>\n",
       "      <td>72</td>\n",
       "      <td>1</td>\n",
       "      <td>1.0</td>\n",
       "      <td>1500000.0</td>\n",
       "      <td>48</td>\n",
       "      <td>10</td>\n",
       "      <td>65</td>\n",
       "      <td>1500000.0</td>\n",
       "      <td>6523</td>\n",
       "      <td>4132</td>\n",
       "    </tr>\n",
       "    <tr>\n",
       "      <th>68704</th>\n",
       "      <td>7634097-1-1-1</td>\n",
       "      <td>diciembre</td>\n",
       "      <td>1</td>\n",
       "      <td>119.131030</td>\n",
       "      <td>Nariño</td>\n",
       "      <td>Mujer</td>\n",
       "      <td>51</td>\n",
       "      <td>2</td>\n",
       "      <td>6</td>\n",
       "      <td>Separado</td>\n",
       "      <td>...</td>\n",
       "      <td>240</td>\n",
       "      <td>4</td>\n",
       "      <td>NaN</td>\n",
       "      <td>NaN</td>\n",
       "      <td>48</td>\n",
       "      <td>1</td>\n",
       "      <td>38</td>\n",
       "      <td>700000.0</td>\n",
       "      <td>3830</td>\n",
       "      <td>9612</td>\n",
       "    </tr>\n",
       "    <tr>\n",
       "      <th>342417</th>\n",
       "      <td>7545568-1-1-1</td>\n",
       "      <td>septiembre</td>\n",
       "      <td>2</td>\n",
       "      <td>847.475539</td>\n",
       "      <td>Nariño</td>\n",
       "      <td>Hombre</td>\n",
       "      <td>49</td>\n",
       "      <td>1</td>\n",
       "      <td>6</td>\n",
       "      <td>Casado</td>\n",
       "      <td>...</td>\n",
       "      <td>360</td>\n",
       "      <td>4</td>\n",
       "      <td>NaN</td>\n",
       "      <td>NaN</td>\n",
       "      <td>32</td>\n",
       "      <td>1</td>\n",
       "      <td>1</td>\n",
       "      <td>415000.0</td>\n",
       "      <td>161</td>\n",
       "      <td>9211</td>\n",
       "    </tr>\n",
       "    <tr>\n",
       "      <th>363323</th>\n",
       "      <td>7564886-1-1-1</td>\n",
       "      <td>septiembre</td>\n",
       "      <td>1</td>\n",
       "      <td>522.352404</td>\n",
       "      <td>Bolívar</td>\n",
       "      <td>Mujer</td>\n",
       "      <td>30</td>\n",
       "      <td>2</td>\n",
       "      <td>6</td>\n",
       "      <td>Pareja &gt;= 2</td>\n",
       "      <td>...</td>\n",
       "      <td>18</td>\n",
       "      <td>1</td>\n",
       "      <td>1.0</td>\n",
       "      <td>1160000.0</td>\n",
       "      <td>48</td>\n",
       "      <td>7</td>\n",
       "      <td>86</td>\n",
       "      <td>1160000.0</td>\n",
       "      <td>8621</td>\n",
       "      <td>4225</td>\n",
       "    </tr>\n",
       "    <tr>\n",
       "      <th>207652</th>\n",
       "      <td>7476241-1-1-1</td>\n",
       "      <td>junio</td>\n",
       "      <td>2</td>\n",
       "      <td>435.835734</td>\n",
       "      <td>Tolima</td>\n",
       "      <td>Hombre</td>\n",
       "      <td>42</td>\n",
       "      <td>1</td>\n",
       "      <td>6</td>\n",
       "      <td>Pareja &gt;= 2</td>\n",
       "      <td>...</td>\n",
       "      <td>6</td>\n",
       "      <td>4</td>\n",
       "      <td>NaN</td>\n",
       "      <td>NaN</td>\n",
       "      <td>60</td>\n",
       "      <td>3</td>\n",
       "      <td>45</td>\n",
       "      <td>500000.0</td>\n",
       "      <td>4542</td>\n",
       "      <td>7231</td>\n",
       "    </tr>\n",
       "  </tbody>\n",
       "</table>\n",
       "<p>5 rows × 32 columns</p>\n",
       "</div>"
      ],
      "text/plain": [
       "          primary_key       MES_x  CLASE_x   FEX_C18_x   DPTO_x    SEXO  EDAD  \\\n",
       "62981   7628544-1-2-1   diciembre        1  215.029801     Meta  Hombre    23   \n",
       "68704   7634097-1-1-1   diciembre        1  119.131030   Nariño   Mujer    51   \n",
       "342417  7545568-1-1-1  septiembre        2  847.475539   Nariño  Hombre    49   \n",
       "363323  7564886-1-1-1  septiembre        1  522.352404  Bolívar   Mujer    30   \n",
       "207652  7476241-1-1-1       junio        2  435.835734   Tolima  Hombre    42   \n",
       "\n",
       "        CAMPESINO  CULTURA    EST_CIVIL  ...  tiempo_trabajo  puesto  \\\n",
       "62981           2        6  Pareja >= 2  ...              72       1   \n",
       "68704           2        6     Separado  ...             240       4   \n",
       "342417          1        6       Casado  ...             360       4   \n",
       "363323          2        6  Pareja >= 2  ...              18       1   \n",
       "207652          1        6  Pareja >= 2  ...               6       4   \n",
       "\n",
       "        empresa_registrada salario_bruto  hora_semanales  no_empleados  \\\n",
       "62981                  1.0     1500000.0              48            10   \n",
       "68704                  NaN           NaN              48             1   \n",
       "342417                 NaN           NaN              32             1   \n",
       "363323                 1.0     1160000.0              48             7   \n",
       "207652                 NaN           NaN              60             3   \n",
       "\n",
       "        RAMA2D_R4    INGLABO  RAMA4D_R4  OFICIO_C8  \n",
       "62981          65  1500000.0       6523       4132  \n",
       "68704          38   700000.0       3830       9612  \n",
       "342417          1   415000.0        161       9211  \n",
       "363323         86  1160000.0       8621       4225  \n",
       "207652         45   500000.0       4542       7231  \n",
       "\n",
       "[5 rows x 32 columns]"
      ]
     },
     "execution_count": 4,
     "metadata": {},
     "output_type": "execute_result"
    }
   ],
   "source": [
    "print(df.columns)\n",
    "df.sample(5)"
   ]
  },
  {
   "cell_type": "code",
   "execution_count": 5,
   "metadata": {},
   "outputs": [],
   "source": [
    "df = df[(df.INGLABO >= 5000)] \n",
    "df = df.dropna(subset=['INGLABO'])"
   ]
  },
  {
   "cell_type": "code",
   "execution_count": 6,
   "metadata": {},
   "outputs": [
    {
     "data": {
      "text/plain": [
       "count      348329.00\n",
       "mean      1496001.39\n",
       "std       2173975.58\n",
       "min          5000.00\n",
       "25%        600000.00\n",
       "50%       1160000.00\n",
       "75%       1500000.00\n",
       "max     124000000.00\n",
       "Name: INGLABO, dtype: float64"
      ]
     },
     "execution_count": 6,
     "metadata": {},
     "output_type": "execute_result"
    }
   ],
   "source": [
    "pd.options.display.float_format = '{:.2f}'.format\n",
    "df.INGLABO.describe()"
   ]
  },
  {
   "cell_type": "code",
   "execution_count": 7,
   "metadata": {},
   "outputs": [
    {
     "data": {
      "text/plain": [
       "count   348329.00\n",
       "mean        41.15\n",
       "std         13.90\n",
       "min         15.00\n",
       "25%         30.00\n",
       "50%         40.00\n",
       "75%         52.00\n",
       "max         98.00\n",
       "Name: EDAD, dtype: float64"
      ]
     },
     "execution_count": 7,
     "metadata": {},
     "output_type": "execute_result"
    }
   ],
   "source": [
    "df.EDAD.describe()"
   ]
  },
  {
   "cell_type": "markdown",
   "metadata": {},
   "source": [
    "## Medidas de centralidad"
   ]
  },
  {
   "cell_type": "markdown",
   "metadata": {},
   "source": [
    "### La media \n",
    "\n",
    "La media de un conjunto de observaciones es simplemente un promedio normal y antiguo: se suman todos los valores y luego se divide por el número total de valores.\n",
    "\n",
    "$$\\bar{x} = \\frac{1}{n}  \\ \\sum_{i=1}^{n} x_{i}$$"
   ]
  },
  {
   "cell_type": "code",
   "execution_count": 8,
   "metadata": {},
   "outputs": [
    {
     "data": {
      "text/plain": [
       "1496001.3938316936"
      ]
     },
     "execution_count": 8,
     "metadata": {},
     "output_type": "execute_result"
    }
   ],
   "source": [
    "n = len(df.INGLABO)\n",
    "Sigma = sum(df.INGLABO)\n",
    "1/n * Sigma # 1'496.001"
   ]
  },
  {
   "cell_type": "code",
   "execution_count": 9,
   "metadata": {},
   "outputs": [
    {
     "data": {
      "text/plain": [
       "1496001.3938316936"
      ]
     },
     "execution_count": 9,
     "metadata": {},
     "output_type": "execute_result"
    }
   ],
   "source": [
    "df.INGLABO.mean() # mean funciona por numpy y pandas"
   ]
  },
  {
   "cell_type": "code",
   "execution_count": 10,
   "metadata": {},
   "outputs": [
    {
     "data": {
      "text/plain": [
       "1496001.3938316936"
      ]
     },
     "execution_count": 10,
     "metadata": {},
     "output_type": "execute_result"
    }
   ],
   "source": [
    "import statistics\n",
    "statistics.mean(df.INGLABO)"
   ]
  },
  {
   "cell_type": "markdown",
   "metadata": {},
   "source": [
    "### La mediana"
   ]
  },
  {
   "cell_type": "code",
   "execution_count": 11,
   "metadata": {},
   "outputs": [
    {
     "data": {
      "text/plain": [
       "321938        5000.00\n",
       "203173        5000.00\n",
       "349761        5000.00\n",
       "62677         5000.00\n",
       "182917        5000.00\n",
       "             ...     \n",
       "103755   100000000.00\n",
       "135500   100000000.00\n",
       "318842   100000000.00\n",
       "225057   100000000.00\n",
       "91644    124000000.00\n",
       "Name: INGLABO, Length: 348329, dtype: float64"
      ]
     },
     "execution_count": 11,
     "metadata": {},
     "output_type": "execute_result"
    }
   ],
   "source": [
    "# Ordenamos los valores\n",
    "sorted_inglabo = df.INGLABO.sort_values(ascending= True)\n",
    "sorted_inglabo"
   ]
  },
  {
   "cell_type": "code",
   "execution_count": 12,
   "metadata": {},
   "outputs": [
    {
     "name": "stdout",
     "output_type": "stream",
     "text": [
      "1160000.0\n"
     ]
    }
   ],
   "source": [
    "# Calculamos la mediana\n",
    "\n",
    "if n % 2 == 1:  # Si el número de elementos es impar\n",
    "    mediana = sorted_inglabo.iloc[n // 2]  # Tomamos el valor central\n",
    "else:  # Si el número de elementos es par\n",
    "    mediana = (sorted_inglabo.iloc[n // 2 - 1] + sorted_inglabo.iloc[n // 2]) / 2  # Promedio de los dos valores centrales\n",
    "\n",
    "print(mediana)\n"
   ]
  },
  {
   "cell_type": "code",
   "execution_count": 13,
   "metadata": {},
   "outputs": [],
   "source": [
    "# Creamos la formula\n",
    "\n",
    "def fmediana(x):\n",
    "    import pandas as pd\n",
    "    x = pd.Series(x)\n",
    "    n = len(x)\n",
    "    x = x.sort_values(ascending= True)\n",
    "    if n % 2 == 1:\n",
    "        return x.iloc[n // 2] \n",
    "    else: \n",
    "        return (x.iloc[n // 2 - 1] + x.iloc[n // 2]) / 2"
   ]
  },
  {
   "cell_type": "code",
   "execution_count": 14,
   "metadata": {},
   "outputs": [
    {
     "data": {
      "text/plain": [
       "1160000.0"
      ]
     },
     "execution_count": 14,
     "metadata": {},
     "output_type": "execute_result"
    }
   ],
   "source": [
    "fmediana(df.INGLABO)"
   ]
  },
  {
   "cell_type": "code",
   "execution_count": 15,
   "metadata": {},
   "outputs": [
    {
     "data": {
      "text/plain": [
       "1160000.0"
      ]
     },
     "execution_count": 15,
     "metadata": {},
     "output_type": "execute_result"
    }
   ],
   "source": [
    "df.INGLABO.median()"
   ]
  },
  {
   "cell_type": "code",
   "execution_count": 16,
   "metadata": {},
   "outputs": [
    {
     "data": {
      "text/plain": [
       "3.0"
      ]
     },
     "execution_count": 16,
     "metadata": {},
     "output_type": "execute_result"
    }
   ],
   "source": [
    "fmediana(df.EDUC)"
   ]
  },
  {
   "cell_type": "code",
   "execution_count": 17,
   "metadata": {},
   "outputs": [
    {
     "data": {
      "text/plain": [
       "3.0"
      ]
     },
     "execution_count": 17,
     "metadata": {},
     "output_type": "execute_result"
    }
   ],
   "source": [
    "df.EDUC.median()"
   ]
  },
  {
   "cell_type": "markdown",
   "metadata": {},
   "source": [
    "### Media o mediana"
   ]
  },
  {
   "cell_type": "code",
   "execution_count": 18,
   "metadata": {},
   "outputs": [
    {
     "data": {
      "image/png": "[encoded data removed]",
      "text/plain": [
       "<Figure size 640x480 with 1 Axes>"
      ]
     },
     "metadata": {},
     "output_type": "display_data"
    }
   ],
   "source": [
    "media = df.INGLABO.mean()\n",
    "mediana = df.INGLABO.median()\n",
    "\n",
    "sns.histplot(df.INGLABO, bins='sturges', color = 'purple')\n",
    "plt.axvline(media, color = 'red', linestyle = '--', label = 'Media')\n",
    "plt.axvline(mediana, color = 'blue', linestyle = '--', label = 'mediana')\n",
    "\n",
    "plt.legend()\n",
    "\n",
    "sns.despine();"
   ]
  },
  {
   "cell_type": "code",
   "execution_count": 19,
   "metadata": {},
   "outputs": [],
   "source": [
    "def comparacion_centralidad(x, bins = 'sturges', color_bars = 'purple', color_media = 'red',color_mediana = 'blue'):\n",
    "    x = pd.Series(x)\n",
    "    \n",
    "    media = x.mean()\n",
    "    mediana = x.median()\n",
    "    \n",
    "    sns.histplot(x, bins = bins, color = color_bars)\n",
    "    plt.axvline(media, color = color_media, linestyle = '--', label = 'Media')\n",
    "    plt.axvline(mediana, color = color_mediana, linestyle = '--', label = 'Mediana')\n",
    "    plt.legend()\n",
    "    plt.plot()"
   ]
  },
  {
   "cell_type": "code",
   "execution_count": 20,
   "metadata": {},
   "outputs": [
    {
     "data": {
      "image/png": "[encoded data removed]",
      "text/plain": [
       "<Figure size 640x480 with 1 Axes>"
      ]
     },
     "metadata": {},
     "output_type": "display_data"
    }
   ],
   "source": [
    "comparacion_centralidad(df.INGLABO, color_bars= 'gray', bins= 40)\n",
    "sns.despine()\n",
    "plt.xlim(0,20000000);"
   ]
  },
  {
   "cell_type": "code",
   "execution_count": 21,
   "metadata": {},
   "outputs": [
    {
     "data": {
      "image/png": "[encoded data removed]",
      "text/plain": [
       "<Figure size 640x480 with 1 Axes>"
      ]
     },
     "metadata": {},
     "output_type": "display_data"
    }
   ],
   "source": [
    "comparacion_centralidad(df.EDUC, color_bars= 'gray')\n",
    "sns.despine;"
   ]
  },
  {
   "cell_type": "markdown",
   "metadata": {},
   "source": [
    "### Media truncada o recordada (Trimmed mean)\n",
    "\n",
    "Cuando nos enfrentamos a una situación en la que algunas de las observaciones con valores más extremos podrían no ser del todo fiables, la media no es necesariamente una buena medida de la tendencia central. Es muy sensible a uno o dos valores extremos y, por tanto, no se considera una medida robusta . Un remedio que hemos visto es utilizar la mediana. Una solución más general es utilizar una \"media recortada\". Para calcular una media recortada, lo que se hace es \"descartar\" los ejemplos más extremos de ambos extremos (es decir, el mayor y el menor) y, a continuación, tomar la media de todo lo demás."
   ]
  },
  {
   "cell_type": "code",
   "execution_count": 34,
   "metadata": {},
   "outputs": [],
   "source": [
    "import statistics"
   ]
  },
  {
   "cell_type": "code",
   "execution_count": 35,
   "metadata": {},
   "outputs": [
    {
     "name": "stdout",
     "output_type": "stream",
     "text": [
      "Media: 1496001.3938316936\n",
      "Mediana: 1160000.0\n",
      "Media truncada: 1161590.1155939929\n"
     ]
    }
   ],
   "source": [
    "from scipy import stats\n",
    "\n",
    "print(f'Media: {statistics.mean(df.INGLABO)}')\n",
    "print(f'Mediana: {statistics.median(df.INGLABO)}')\n",
    "print(f'Media truncada: {stats.trim_mean(df.INGLABO, 0.1)}')\n"
   ]
  },
  {
   "cell_type": "markdown",
   "metadata": {},
   "source": [
    "### Moda\n",
    "Valor que ocurre con mayor frecuencia.\n",
    "\n",
    "Si bien es cierto que la moda se calcula con mayor frecuencia cuando se tienen datos de escala nominal (porque las medias y las medianas son inútiles para ese tipo de variables), hay algunas situaciones en las que realmente se desea conocer la moda de una variable de escala ordinal, de intervalo o de razón."
   ]
  },
  {
   "cell_type": "code",
   "execution_count": 145,
   "metadata": {},
   "outputs": [
    {
     "data": {
      "text/plain": [
       "EST_CIVIL\n",
       "Pareja >= 2    112373\n",
       "Soltero         92932\n",
       "Casado          68003\n",
       "Separado        57654\n",
       "Pareja < 2       9628\n",
       "Viudo            7739\n",
       "Name: count, dtype: int64"
      ]
     },
     "execution_count": 145,
     "metadata": {},
     "output_type": "execute_result"
    }
   ],
   "source": [
    "df.EST_CIVIL.value_counts()"
   ]
  },
  {
   "cell_type": "code",
   "execution_count": 146,
   "metadata": {},
   "outputs": [
    {
     "data": {
      "text/plain": [
       "'Pareja >= 2'"
      ]
     },
     "execution_count": 146,
     "metadata": {},
     "output_type": "execute_result"
    }
   ],
   "source": [
    "statistics.mode(df.EST_CIVIL)"
   ]
  },
  {
   "cell_type": "markdown",
   "metadata": {},
   "source": [
    "## Medidas de variabilidad\n",
    "\n",
    " La segunda cosa que realmente queremos es una medida de la variabilidad de los datos. Es decir, ¿qué tan \"dispersos\" están los datos? ¿Qué tan \"lejos\" de la media o la mediana tienden a estar los valores observados? "
   ]
  },
  {
   "cell_type": "markdown",
   "metadata": {},
   "source": [
    "### Rango\n",
    "Es el valor más grande menos el valor más pequeño."
   ]
  },
  {
   "cell_type": "code",
   "execution_count": 150,
   "metadata": {},
   "outputs": [
    {
     "data": {
      "text/plain": [
       "(15, 98)"
      ]
     },
     "execution_count": 150,
     "metadata": {},
     "output_type": "execute_result"
    }
   ],
   "source": [
    "df.EDAD.min(), df.EDAD.max()"
   ]
  },
  {
   "cell_type": "markdown",
   "metadata": {},
   "source": [
    "### Rango intercuartil\n",
    "\n",
    "El rango intercuartil (RIC) es como el rango, pero en lugar de calcular la diferencia entre el valor más grande y el más pequeño, calcula la diferencia entre el cuartil 25 y el cuartil 75.\n",
    "\n",
    "El rango intercuartil es el rango abarcado por la “mitad media” de los datos. "
   ]
  },
  {
   "cell_type": "code",
   "execution_count": 153,
   "metadata": {},
   "outputs": [
    {
     "data": {
      "text/plain": [
       "22.0"
      ]
     },
     "execution_count": 153,
     "metadata": {},
     "output_type": "execute_result"
    }
   ],
   "source": [
    "np.quantile(df.EDAD, [.25,.75])\n",
    "\n",
    "np.quantile(df.EDAD, .75) - np.quantile(df.EDAD, .25)"
   ]
  },
  {
   "cell_type": "code",
   "execution_count": 154,
   "metadata": {},
   "outputs": [
    {
     "data": {
      "text/plain": [
       "22.0"
      ]
     },
     "execution_count": 154,
     "metadata": {},
     "output_type": "execute_result"
    }
   ],
   "source": [
    "stats.iqr(df.EDAD)"
   ]
  },
  {
   "cell_type": "markdown",
   "metadata": {},
   "source": [
    "### Desviación absoluta media \n",
    "\n",
    "Mean absolute deviation (MAD)\n",
    "\n",
    "Las dos medidas que hemos analizado hasta ahora, el rango y el rango intercuartil, se basan en la idea de que podemos medir la dispersión de los datos observando los cuantiles de los mismos. Sin embargo, esta no es la única forma de pensar en el problema. Un enfoque diferente es seleccionar un punto de referencia significativo (normalmente la media o la mediana) y luego informar las desviaciones \"típicas\" con respecto a ese punto de referencia. \n",
    "\n",
    "$$ MAD(X) = \\frac{1}{N} \\sum_{i=1}^{N} |X_{i} - \\bar{X}|$$"
   ]
  },
  {
   "cell_type": "code",
   "execution_count": 169,
   "metadata": {},
   "outputs": [
    {
     "data": {
      "text/plain": [
       "460000.0"
      ]
     },
     "execution_count": 169,
     "metadata": {},
     "output_type": "execute_result"
    }
   ],
   "source": [
    "stats.median_abs_deviation(df.INGLABO) # Este lo calcula con respecto a la mediana"
   ]
  },
  {
   "cell_type": "code",
   "execution_count": 166,
   "metadata": {},
   "outputs": [],
   "source": [
    "def mad(x):\n",
    "    x = pd.Series(x)\n",
    "    x_bar = np.mean(x)  # Calcular la media\n",
    "    AD = np.abs(x - x_bar)  # Calcular desviaciones absolutas\n",
    "    ADD = np.mean(AD)  # Calcular la media de las desviaciones absolutas\n",
    "    return ADD"
   ]
  },
  {
   "cell_type": "code",
   "execution_count": 167,
   "metadata": {},
   "outputs": [
    {
     "data": {
      "text/plain": [
       "965671.7187074285"
      ]
     },
     "execution_count": 167,
     "metadata": {},
     "output_type": "execute_result"
    }
   ],
   "source": [
    "mad(df.INGLABO)"
   ]
  },
  {
   "cell_type": "markdown",
   "metadata": {},
   "source": [
    "### Varianza\n",
    "\n",
    "$$Var(x) = \\frac{1}{N} \\sum_{i=1}^{N} (x_{i} - \\bar{x})^2$$"
   ]
  },
  {
   "cell_type": "code",
   "execution_count": 172,
   "metadata": {},
   "outputs": [
    {
     "data": {
      "text/plain": [
       "4726169823693.522"
      ]
     },
     "execution_count": 172,
     "metadata": {},
     "output_type": "execute_result"
    }
   ],
   "source": [
    "df.INGLABO.var() # este usa la corrección de Bessel para obtener estimador"
   ]
  },
  {
   "cell_type": "code",
   "execution_count": 174,
   "metadata": {},
   "outputs": [
    {
     "data": {
      "text/plain": [
       "(4726169823693.523, 4726156255573.087)"
      ]
     },
     "execution_count": 174,
     "metadata": {},
     "output_type": "execute_result"
    }
   ],
   "source": [
    "statistics.variance(df.INGLABO), statistics.pvariance(df.INGLABO)"
   ]
  },
  {
   "cell_type": "markdown",
   "metadata": {},
   "source": [
    "### Desviación estándar\n",
    "\n",
    "$$ \\sigma = \\sqrt{\\frac{1}{N} \\sum_{i=1}^{N} (x_{i} - \\bar{x})^2}$$"
   ]
  },
  {
   "cell_type": "code",
   "execution_count": 175,
   "metadata": {},
   "outputs": [
    {
     "data": {
      "text/plain": [
       "2173975.5802891445"
      ]
     },
     "execution_count": 175,
     "metadata": {},
     "output_type": "execute_result"
    }
   ],
   "source": [
    "df.INGLABO.std()"
   ]
  },
  {
   "cell_type": "code",
   "execution_count": 177,
   "metadata": {},
   "outputs": [
    {
     "data": {
      "text/plain": [
       "(2173975.580289145, 2173972.459708974)"
      ]
     },
     "execution_count": 177,
     "metadata": {},
     "output_type": "execute_result"
    }
   ],
   "source": [
    "statistics.stdev(df.INGLABO), statistics.pstdev(df.INGLABO)"
   ]
  },
  {
   "cell_type": "markdown",
   "metadata": {},
   "source": [
    "### Regla empírica \n",
    "\n",
    "La Regla Empírica, también conocida como la Regla del 68-95-99.7, se aplica a distribuciones normales (campana de Gauss) y establece lo siguiente:\n",
    "- Aproximadamente el 68% de los datos se encuentran dentro de una desviación estándar de la media\n",
    "- Aproximadamente el 95% de los datos se encuentran dentro de dos desviaciones estándar de la media\n",
    "- Aproximadamente el 99.7% de los datos se encuentran dentro de tres desviaciones estándar de la media\n",
    "\n",
    "### Teorema de Chebyshev\n",
    "\n",
    "El Teorema de Chebyshev es un resultado más general que se aplica a cualquier distribución, independientemente de su forma. Establece que, para cualquier número real $k>1$ al menos $\\frac{1}{k^2}$ de los datos se encuentran dentro de $k$ desviaciones estándar de la media\n",
    "\n",
    "$$P(|X-\\mu| < k \\sigma) \\geq 1 - \\frac{1}{k^2}$$"
   ]
  },
  {
   "cell_type": "code",
   "execution_count": 185,
   "metadata": {},
   "outputs": [
    {
     "data": {
      "image/png": "[encoded data removed]",
      "text/plain": [
       "<Figure size 640x480 with 1 Axes>"
      ]
     },
     "metadata": {},
     "output_type": "display_data"
    }
   ],
   "source": [
    "sns.histplot(df.EDAD, bins= 'sturges', color = 'white')\n",
    "plt.axvline(df.EDAD.mean(), color = 'red', label = 'Media')\n",
    "plt.axvline(df.EDAD.mean() + 2*df.EDAD.std(), color = 'purple', label = '+2 std')\n",
    "plt.axvline(df.EDAD.mean() - 2*df.EDAD.std(), color = 'purple', label = '-2 std')\n",
    "sns.despine()\n",
    "plt.legend();\n"
   ]
  },
  {
   "cell_type": "markdown",
   "metadata": {},
   "source": [
    "### Sesgo y curtosis\n",
    "\n",
    "### Asimetría\n",
    "\n",
    "Si los datos tienden a tener muchos valores extremadamente pequeños (es decir, la cola inferior es \"más larga\" que la cola superior) y no tantos valores extremadamente grandes (panel izquierdo), entonces decimos que los datos están sesgados negativamente . Por otro lado, si hay más valores extremadamente grandes que extremadamente pequeños (panel derecho), decimos que los datos están sesgados positivamente\n",
    "\n",
    "$$Skewness(X) = \\frac{1}{N \\sigma ^ {3}} \\sum_{i=1}^{N} (x_{i} - \\bar{x})^{3}$$\n",
    "### Kurtosis\n",
    "\n",
    "Por convención, decimos que la “curva normal” (líneas negras) tiene curtosis cero, por lo que la agudeza de un conjunto de datos se evalúa en relación con esta curva.\n",
    "\n",
    "$$Skurtosis(X) = \\frac{1}{N \\sigma ^ {4}} \\sum_{i=1}^{N} (x_{i} - \\bar{x})^{4} - 3 $$\n"
   ]
  },
  {
   "cell_type": "code",
   "execution_count": 189,
   "metadata": {},
   "outputs": [
    {
     "name": "stdout",
     "output_type": "stream",
     "text": [
      "0.38106783467037214\n"
     ]
    }
   ],
   "source": [
    "print(df.EDAD.skew())"
   ]
  },
  {
   "cell_type": "code",
   "execution_count": 190,
   "metadata": {},
   "outputs": [
    {
     "name": "stdout",
     "output_type": "stream",
     "text": [
      "Pandas:  -0.6167721079328858\n",
      "Fischer:  -0.6167804797153953\n",
      "Pearson:  2.3832195202846047\n"
     ]
    }
   ],
   "source": [
    "print(\"Pandas: \", df.EDAD.kurtosis()) # Fisher con corrección de sesgo\n",
    "print(\"Fischer: \",stats.kurtosis(df.EDAD, fisher=True))\n",
    "print(\"Pearson: \",stats.kurtosis(df.EDAD, fisher=False))"
   ]
  },
  {
   "cell_type": "markdown",
   "metadata": {},
   "source": [
    "### Describir una variable"
   ]
  },
  {
   "cell_type": "code",
   "execution_count": 23,
   "metadata": {},
   "outputs": [
    {
     "data": {
      "text/plain": [
       "count      348329.00\n",
       "mean      1496001.39\n",
       "std       2173975.58\n",
       "min          5000.00\n",
       "25%        600000.00\n",
       "50%       1160000.00\n",
       "75%       1500000.00\n",
       "max     124000000.00\n",
       "Name: INGLABO, dtype: float64"
      ]
     },
     "execution_count": 23,
     "metadata": {},
     "output_type": "execute_result"
    }
   ],
   "source": [
    "df.INGLABO.describe()"
   ]
  },
  {
   "cell_type": "code",
   "execution_count": 24,
   "metadata": {},
   "outputs": [
    {
     "data": {
      "text/html": [
       "<div>\n",
       "<style scoped>\n",
       "    .dataframe tbody tr th:only-of-type {\n",
       "        vertical-align: middle;\n",
       "    }\n",
       "\n",
       "    .dataframe tbody tr th {\n",
       "        vertical-align: top;\n",
       "    }\n",
       "\n",
       "    .dataframe thead th {\n",
       "        text-align: right;\n",
       "    }\n",
       "</style>\n",
       "<table border=\"1\" class=\"dataframe\">\n",
       "  <thead>\n",
       "    <tr style=\"text-align: right;\">\n",
       "      <th></th>\n",
       "      <th>CLASE_x</th>\n",
       "      <th>FEX_C18_x</th>\n",
       "      <th>EDAD</th>\n",
       "      <th>CAMPESINO</th>\n",
       "      <th>CULTURA</th>\n",
       "      <th>LEE</th>\n",
       "      <th>NIVEL_EDUC</th>\n",
       "      <th>EDUC</th>\n",
       "      <th>MES_y</th>\n",
       "      <th>CLASE_y</th>\n",
       "      <th>...</th>\n",
       "      <th>tiempo_trabajo</th>\n",
       "      <th>puesto</th>\n",
       "      <th>empresa_registrada</th>\n",
       "      <th>salario_bruto</th>\n",
       "      <th>hora_semanales</th>\n",
       "      <th>no_empleados</th>\n",
       "      <th>RAMA2D_R4</th>\n",
       "      <th>INGLABO</th>\n",
       "      <th>RAMA4D_R4</th>\n",
       "      <th>OFICIO_C8</th>\n",
       "    </tr>\n",
       "  </thead>\n",
       "  <tbody>\n",
       "    <tr>\n",
       "      <th>count</th>\n",
       "      <td>348329.00</td>\n",
       "      <td>348329.00</td>\n",
       "      <td>348329.00</td>\n",
       "      <td>348329.00</td>\n",
       "      <td>348329.00</td>\n",
       "      <td>348329.00</td>\n",
       "      <td>348329.00</td>\n",
       "      <td>348329.00</td>\n",
       "      <td>348329.00</td>\n",
       "      <td>348329.00</td>\n",
       "      <td>...</td>\n",
       "      <td>348329.00</td>\n",
       "      <td>348329.00</td>\n",
       "      <td>185751.00</td>\n",
       "      <td>185715.00</td>\n",
       "      <td>348329.00</td>\n",
       "      <td>348329.00</td>\n",
       "      <td>348329.00</td>\n",
       "      <td>348329.00</td>\n",
       "      <td>348329.00</td>\n",
       "      <td>348329.00</td>\n",
       "    </tr>\n",
       "    <tr>\n",
       "      <th>mean</th>\n",
       "      <td>1.12</td>\n",
       "      <td>742.54</td>\n",
       "      <td>41.15</td>\n",
       "      <td>1.70</td>\n",
       "      <td>5.73</td>\n",
       "      <td>1.03</td>\n",
       "      <td>6.04</td>\n",
       "      <td>3.83</td>\n",
       "      <td>6.48</td>\n",
       "      <td>1.12</td>\n",
       "      <td>...</td>\n",
       "      <td>82.45</td>\n",
       "      <td>2.68</td>\n",
       "      <td>1.50</td>\n",
       "      <td>1712359.78</td>\n",
       "      <td>44.81</td>\n",
       "      <td>4.25</td>\n",
       "      <td>54.03</td>\n",
       "      <td>1496001.39</td>\n",
       "      <td>5430.34</td>\n",
       "      <td>5908.34</td>\n",
       "    </tr>\n",
       "    <tr>\n",
       "      <th>std</th>\n",
       "      <td>0.32</td>\n",
       "      <td>1061.50</td>\n",
       "      <td>13.90</td>\n",
       "      <td>0.59</td>\n",
       "      <td>0.98</td>\n",
       "      <td>0.16</td>\n",
       "      <td>2.81</td>\n",
       "      <td>2.76</td>\n",
       "      <td>3.43</td>\n",
       "      <td>0.32</td>\n",
       "      <td>...</td>\n",
       "      <td>110.45</td>\n",
       "      <td>1.60</td>\n",
       "      <td>1.56</td>\n",
       "      <td>1986371.91</td>\n",
       "      <td>13.34</td>\n",
       "      <td>3.60</td>\n",
       "      <td>27.74</td>\n",
       "      <td>2173975.58</td>\n",
       "      <td>2769.30</td>\n",
       "      <td>2616.05</td>\n",
       "    </tr>\n",
       "    <tr>\n",
       "      <th>min</th>\n",
       "      <td>1.00</td>\n",
       "      <td>7.82</td>\n",
       "      <td>15.00</td>\n",
       "      <td>1.00</td>\n",
       "      <td>1.00</td>\n",
       "      <td>1.00</td>\n",
       "      <td>1.00</td>\n",
       "      <td>0.00</td>\n",
       "      <td>1.00</td>\n",
       "      <td>1.00</td>\n",
       "      <td>...</td>\n",
       "      <td>0.00</td>\n",
       "      <td>1.00</td>\n",
       "      <td>1.00</td>\n",
       "      <td>0.00</td>\n",
       "      <td>1.00</td>\n",
       "      <td>1.00</td>\n",
       "      <td>0.00</td>\n",
       "      <td>5000.00</td>\n",
       "      <td>0.00</td>\n",
       "      <td>0.00</td>\n",
       "    </tr>\n",
       "    <tr>\n",
       "      <th>25%</th>\n",
       "      <td>1.00</td>\n",
       "      <td>155.25</td>\n",
       "      <td>30.00</td>\n",
       "      <td>1.00</td>\n",
       "      <td>6.00</td>\n",
       "      <td>1.00</td>\n",
       "      <td>4.00</td>\n",
       "      <td>2.00</td>\n",
       "      <td>4.00</td>\n",
       "      <td>1.00</td>\n",
       "      <td>...</td>\n",
       "      <td>12.00</td>\n",
       "      <td>1.00</td>\n",
       "      <td>1.00</td>\n",
       "      <td>1000000.00</td>\n",
       "      <td>40.00</td>\n",
       "      <td>1.00</td>\n",
       "      <td>42.00</td>\n",
       "      <td>600000.00</td>\n",
       "      <td>4210.00</td>\n",
       "      <td>4110.00</td>\n",
       "    </tr>\n",
       "    <tr>\n",
       "      <th>50%</th>\n",
       "      <td>1.00</td>\n",
       "      <td>311.69</td>\n",
       "      <td>40.00</td>\n",
       "      <td>2.00</td>\n",
       "      <td>6.00</td>\n",
       "      <td>1.00</td>\n",
       "      <td>5.00</td>\n",
       "      <td>3.00</td>\n",
       "      <td>6.00</td>\n",
       "      <td>1.00</td>\n",
       "      <td>...</td>\n",
       "      <td>36.00</td>\n",
       "      <td>3.00</td>\n",
       "      <td>1.00</td>\n",
       "      <td>1200000.00</td>\n",
       "      <td>48.00</td>\n",
       "      <td>2.00</td>\n",
       "      <td>49.00</td>\n",
       "      <td>1160000.00</td>\n",
       "      <td>4921.00</td>\n",
       "      <td>5321.00</td>\n",
       "    </tr>\n",
       "    <tr>\n",
       "      <th>75%</th>\n",
       "      <td>1.00</td>\n",
       "      <td>885.69</td>\n",
       "      <td>52.00</td>\n",
       "      <td>2.00</td>\n",
       "      <td>6.00</td>\n",
       "      <td>1.00</td>\n",
       "      <td>9.00</td>\n",
       "      <td>5.00</td>\n",
       "      <td>9.00</td>\n",
       "      <td>1.00</td>\n",
       "      <td>...</td>\n",
       "      <td>120.00</td>\n",
       "      <td>4.00</td>\n",
       "      <td>1.00</td>\n",
       "      <td>1800000.00</td>\n",
       "      <td>48.00</td>\n",
       "      <td>8.00</td>\n",
       "      <td>82.00</td>\n",
       "      <td>1500000.00</td>\n",
       "      <td>8220.00</td>\n",
       "      <td>8324.00</td>\n",
       "    </tr>\n",
       "    <tr>\n",
       "      <th>max</th>\n",
       "      <td>2.00</td>\n",
       "      <td>14859.25</td>\n",
       "      <td>98.00</td>\n",
       "      <td>9.00</td>\n",
       "      <td>6.00</td>\n",
       "      <td>2.00</td>\n",
       "      <td>13.00</td>\n",
       "      <td>20.00</td>\n",
       "      <td>12.00</td>\n",
       "      <td>2.00</td>\n",
       "      <td>...</td>\n",
       "      <td>936.00</td>\n",
       "      <td>8.00</td>\n",
       "      <td>9.00</td>\n",
       "      <td>100000000.00</td>\n",
       "      <td>130.00</td>\n",
       "      <td>10.00</td>\n",
       "      <td>99.00</td>\n",
       "      <td>124000000.00</td>\n",
       "      <td>9900.00</td>\n",
       "      <td>9629.00</td>\n",
       "    </tr>\n",
       "  </tbody>\n",
       "</table>\n",
       "<p>8 rows × 26 columns</p>\n",
       "</div>"
      ],
      "text/plain": [
       "        CLASE_x  FEX_C18_x      EDAD  CAMPESINO   CULTURA       LEE  \\\n",
       "count 348329.00  348329.00 348329.00  348329.00 348329.00 348329.00   \n",
       "mean       1.12     742.54     41.15       1.70      5.73      1.03   \n",
       "std        0.32    1061.50     13.90       0.59      0.98      0.16   \n",
       "min        1.00       7.82     15.00       1.00      1.00      1.00   \n",
       "25%        1.00     155.25     30.00       1.00      6.00      1.00   \n",
       "50%        1.00     311.69     40.00       2.00      6.00      1.00   \n",
       "75%        1.00     885.69     52.00       2.00      6.00      1.00   \n",
       "max        2.00   14859.25     98.00       9.00      6.00      2.00   \n",
       "\n",
       "       NIVEL_EDUC      EDUC     MES_y   CLASE_y  ...  tiempo_trabajo  \\\n",
       "count   348329.00 348329.00 348329.00 348329.00  ...       348329.00   \n",
       "mean         6.04      3.83      6.48      1.12  ...           82.45   \n",
       "std          2.81      2.76      3.43      0.32  ...          110.45   \n",
       "min          1.00      0.00      1.00      1.00  ...            0.00   \n",
       "25%          4.00      2.00      4.00      1.00  ...           12.00   \n",
       "50%          5.00      3.00      6.00      1.00  ...           36.00   \n",
       "75%          9.00      5.00      9.00      1.00  ...          120.00   \n",
       "max         13.00     20.00     12.00      2.00  ...          936.00   \n",
       "\n",
       "         puesto  empresa_registrada  salario_bruto  hora_semanales  \\\n",
       "count 348329.00           185751.00      185715.00       348329.00   \n",
       "mean       2.68                1.50     1712359.78           44.81   \n",
       "std        1.60                1.56     1986371.91           13.34   \n",
       "min        1.00                1.00           0.00            1.00   \n",
       "25%        1.00                1.00     1000000.00           40.00   \n",
       "50%        3.00                1.00     1200000.00           48.00   \n",
       "75%        4.00                1.00     1800000.00           48.00   \n",
       "max        8.00                9.00   100000000.00          130.00   \n",
       "\n",
       "       no_empleados  RAMA2D_R4      INGLABO  RAMA4D_R4  OFICIO_C8  \n",
       "count     348329.00  348329.00    348329.00  348329.00  348329.00  \n",
       "mean           4.25      54.03   1496001.39    5430.34    5908.34  \n",
       "std            3.60      27.74   2173975.58    2769.30    2616.05  \n",
       "min            1.00       0.00      5000.00       0.00       0.00  \n",
       "25%            1.00      42.00    600000.00    4210.00    4110.00  \n",
       "50%            2.00      49.00   1160000.00    4921.00    5321.00  \n",
       "75%            8.00      82.00   1500000.00    8220.00    8324.00  \n",
       "max           10.00      99.00 124000000.00    9900.00    9629.00  \n",
       "\n",
       "[8 rows x 26 columns]"
      ]
     },
     "execution_count": 24,
     "metadata": {},
     "output_type": "execute_result"
    }
   ],
   "source": [
    "df.describe()"
   ]
  },
  {
   "cell_type": "markdown",
   "metadata": {},
   "source": [
    "### Estandarización (z-score normalization)\n",
    "\n",
    "Cantidad de desviaciones estándar por encima de la media en la que se encuentra mi puntuación\n",
    "\n",
    "$$z_{i} = \\frac{X_{i}- \\bar{X}}{\\hat{\\sigma}}$$"
   ]
  },
  {
   "cell_type": "code",
   "execution_count": 29,
   "metadata": {},
   "outputs": [],
   "source": [
    "def z_score(x):\n",
    "    x = pd.Series(x)\n",
    "    z = (x - np.mean(x)) / np.std(x)\n",
    "    return z"
   ]
  },
  {
   "cell_type": "code",
   "execution_count": 31,
   "metadata": {},
   "outputs": [
    {
     "data": {
      "text/plain": [
       "0        -0.04\n",
       "1        -0.14\n",
       "2        -0.09\n",
       "3         0.14\n",
       "4        -0.55\n",
       "          ... \n",
       "365809   -0.23\n",
       "365810    0.23\n",
       "365811   -0.15\n",
       "365812    1.29\n",
       "365813    0.23\n",
       "Name: INGLABO, Length: 348329, dtype: float64"
      ]
     },
     "execution_count": 31,
     "metadata": {},
     "output_type": "execute_result"
    }
   ],
   "source": [
    "(df.INGLABO - df.INGLABO.mean()) / np.std(df.INGLABO)"
   ]
  },
  {
   "cell_type": "code",
   "execution_count": 36,
   "metadata": {},
   "outputs": [
    {
     "data": {
      "text/plain": [
       "0        -0.04\n",
       "1        -0.14\n",
       "2        -0.09\n",
       "3         0.14\n",
       "4        -0.55\n",
       "          ... \n",
       "365809   -0.23\n",
       "365810    0.23\n",
       "365811   -0.15\n",
       "365812    1.29\n",
       "365813    0.23\n",
       "Name: INGLABO, Length: 348329, dtype: float64"
      ]
     },
     "execution_count": 36,
     "metadata": {},
     "output_type": "execute_result"
    }
   ],
   "source": [
    "# from scipy import stats\n",
    "\n",
    "stats.zscore(df.INGLABO)"
   ]
  },
  {
   "cell_type": "markdown",
   "metadata": {},
   "source": [
    "## Análisis conjunto de variables\n",
    "\n",
    "### Correlaciones\n",
    "\n",
    "#### Fuerza y dirección de una (posible) relación\n",
    "\n",
    "Podemos dibujar diagramas de dispersión para darnos una idea general de cuán estrechamente relacionadas están dos variables."
   ]
  },
  {
   "cell_type": "code",
   "execution_count": 39,
   "metadata": {},
   "outputs": [
    {
     "data": {
      "text/plain": [
       "count   348329.00\n",
       "mean        82.45\n",
       "std        110.45\n",
       "min          0.00\n",
       "25%         12.00\n",
       "50%         36.00\n",
       "75%        120.00\n",
       "max        936.00\n",
       "Name: tiempo_trabajo, dtype: float64"
      ]
     },
     "execution_count": 39,
     "metadata": {},
     "output_type": "execute_result"
    }
   ],
   "source": [
    "df.tiempo_trabajo.describe() # Meses, 0 es menos de un mes"
   ]
  },
  {
   "cell_type": "code",
   "execution_count": 40,
   "metadata": {},
   "outputs": [
    {
     "data": {
      "text/plain": [
       "Index(['primary_key', 'MES_x', 'CLASE_x', 'FEX_C18_x', 'DPTO_x', 'SEXO',\n",
       "       'EDAD', 'CAMPESINO', 'CULTURA', 'EST_CIVIL', 'LEE', 'NIVEL_EDUC',\n",
       "       'EDUC', 'NIVEL_EDUC_CAT', 'MES_y', 'CLASE_y', 'FEX_C18_y', 'DPTO_y',\n",
       "       'contrato', 'contrato_verbal', 'termino_contrato', 'misma_empresa',\n",
       "       'tiempo_trabajo', 'puesto', 'empresa_registrada', 'salario_bruto',\n",
       "       'hora_semanales', 'no_empleados', 'RAMA2D_R4', 'INGLABO', 'RAMA4D_R4',\n",
       "       'OFICIO_C8'],\n",
       "      dtype='object')"
      ]
     },
     "execution_count": 40,
     "metadata": {},
     "output_type": "execute_result"
    }
   ],
   "source": [
    "df.columns"
   ]
  },
  {
   "cell_type": "code",
   "execution_count": 43,
   "metadata": {},
   "outputs": [
    {
     "data": {
      "text/html": [
       "<div>\n",
       "<style scoped>\n",
       "    .dataframe tbody tr th:only-of-type {\n",
       "        vertical-align: middle;\n",
       "    }\n",
       "\n",
       "    .dataframe tbody tr th {\n",
       "        vertical-align: top;\n",
       "    }\n",
       "\n",
       "    .dataframe thead th {\n",
       "        text-align: right;\n",
       "    }\n",
       "</style>\n",
       "<table border=\"1\" class=\"dataframe\">\n",
       "  <thead>\n",
       "    <tr style=\"text-align: right;\">\n",
       "      <th></th>\n",
       "      <th>primary_key</th>\n",
       "      <th>MES_x</th>\n",
       "      <th>CLASE_x</th>\n",
       "      <th>FEX_C18_x</th>\n",
       "      <th>DPTO_x</th>\n",
       "      <th>SEXO</th>\n",
       "      <th>EDAD</th>\n",
       "      <th>CAMPESINO</th>\n",
       "      <th>CULTURA</th>\n",
       "      <th>EST_CIVIL</th>\n",
       "      <th>...</th>\n",
       "      <th>tiempo_trabajo</th>\n",
       "      <th>puesto</th>\n",
       "      <th>empresa_registrada</th>\n",
       "      <th>salario_bruto</th>\n",
       "      <th>hora_semanales</th>\n",
       "      <th>no_empleados</th>\n",
       "      <th>RAMA2D_R4</th>\n",
       "      <th>INGLABO</th>\n",
       "      <th>RAMA4D_R4</th>\n",
       "      <th>OFICIO_C8</th>\n",
       "    </tr>\n",
       "  </thead>\n",
       "  <tbody>\n",
       "    <tr>\n",
       "      <th>288096</th>\n",
       "      <td>7608835-1-1-1</td>\n",
       "      <td>noviembre</td>\n",
       "      <td>2</td>\n",
       "      <td>653.24</td>\n",
       "      <td>Tolima</td>\n",
       "      <td>Hombre</td>\n",
       "      <td>88</td>\n",
       "      <td>1</td>\n",
       "      <td>6</td>\n",
       "      <td>Viudo</td>\n",
       "      <td>...</td>\n",
       "      <td>936</td>\n",
       "      <td>4</td>\n",
       "      <td>NaN</td>\n",
       "      <td>NaN</td>\n",
       "      <td>47</td>\n",
       "      <td>1</td>\n",
       "      <td>1</td>\n",
       "      <td>800000.00</td>\n",
       "      <td>123</td>\n",
       "      <td>9211</td>\n",
       "    </tr>\n",
       "  </tbody>\n",
       "</table>\n",
       "<p>1 rows × 32 columns</p>\n",
       "</div>"
      ],
      "text/plain": [
       "          primary_key      MES_x  CLASE_x  FEX_C18_x  DPTO_x    SEXO  EDAD  \\\n",
       "288096  7608835-1-1-1  noviembre        2     653.24  Tolima  Hombre    88   \n",
       "\n",
       "        CAMPESINO  CULTURA EST_CIVIL  ...  tiempo_trabajo  puesto  \\\n",
       "288096          1        6     Viudo  ...             936       4   \n",
       "\n",
       "        empresa_registrada salario_bruto  hora_semanales  no_empleados  \\\n",
       "288096                 NaN           NaN              47             1   \n",
       "\n",
       "        RAMA2D_R4   INGLABO  RAMA4D_R4  OFICIO_C8  \n",
       "288096          1 800000.00        123       9211  \n",
       "\n",
       "[1 rows x 32 columns]"
      ]
     },
     "execution_count": 43,
     "metadata": {},
     "output_type": "execute_result"
    }
   ],
   "source": [
    "df[df.tiempo_trabajo == 936]"
   ]
  },
  {
   "cell_type": "code",
   "execution_count": 52,
   "metadata": {},
   "outputs": [
    {
     "data": {
      "image/png": "[encoded data removed]",
      "text/plain": [
       "<Figure size 1500x500 with 2 Axes>"
      ]
     },
     "metadata": {},
     "output_type": "display_data"
    }
   ],
   "source": [
    "fig, ax = plt.subplots(1,2,figsize = (15,5))\n",
    "fig.suptitle('Evaluación de determinantes del ingreso')\n",
    "\n",
    "sns.scatterplot(x= df.EDUC, y= df.INGLABO, ax= ax[0])\n",
    "fig.axes[0].set_title('Nivel educativo vs ingresos')\n",
    "\n",
    "sns.scatterplot(x= df.tiempo_trabajo, y= df.INGLABO)\n",
    "fig.axes[1].set_title('Años trabajados vs ingresos')\n",
    "\n",
    "sns.despine();\n"
   ]
  },
  {
   "cell_type": "markdown",
   "metadata": {},
   "source": [
    "### Covarianza\n",
    "\n",
    "$$\\sigma_{xy} = \\frac{\\sum{(x_{i}- \\mu_{x})(y_{i}- \\mu_{y})}}{N}$$"
   ]
  },
  {
   "cell_type": "code",
   "execution_count": 57,
   "metadata": {},
   "outputs": [
    {
     "data": {
      "text/plain": [
       "array([[4.72616982e+12, 2.01601438e+07],\n",
       "       [2.01601438e+07, 1.21993430e+04]])"
      ]
     },
     "execution_count": 57,
     "metadata": {},
     "output_type": "execute_result"
    }
   ],
   "source": [
    "np.cov(df.INGLABO, df.tiempo_trabajo)"
   ]
  },
  {
   "cell_type": "code",
   "execution_count": 56,
   "metadata": {},
   "outputs": [
    {
     "data": {
      "text/plain": [
       "20160143.800101046"
      ]
     },
     "execution_count": 56,
     "metadata": {},
     "output_type": "execute_result"
    }
   ],
   "source": [
    "df['INGLABO'].cov(df['tiempo_trabajo'])"
   ]
  },
  {
   "cell_type": "markdown",
   "metadata": {},
   "source": [
    "### Correlación\n",
    "\n",
    "$$\\rho = \\frac{S_{xy}}{S_{x}S_{y}}$$"
   ]
  },
  {
   "cell_type": "code",
   "execution_count": 63,
   "metadata": {},
   "outputs": [
    {
     "data": {
      "text/plain": [
       "20160143.800101046"
      ]
     },
     "execution_count": 63,
     "metadata": {},
     "output_type": "execute_result"
    }
   ],
   "source": [
    "df['INGLABO'].cov(df['tiempo_trabajo']) "
   ]
  },
  {
   "cell_type": "code",
   "execution_count": 58,
   "metadata": {},
   "outputs": [
    {
     "data": {
      "text/plain": [
       "0.08395967392648516"
      ]
     },
     "execution_count": 58,
     "metadata": {},
     "output_type": "execute_result"
    }
   ],
   "source": [
    "# Pearson correlation\n",
    "\n",
    "df['INGLABO'].corr(df['tiempo_trabajo'])"
   ]
  },
  {
   "cell_type": "code",
   "execution_count": 66,
   "metadata": {},
   "outputs": [
    {
     "data": {
      "text/plain": [
       "0.09756225707201316"
      ]
     },
     "execution_count": 66,
     "metadata": {},
     "output_type": "execute_result"
    }
   ],
   "source": [
    "# Spearman correlation\n",
    "df['INGLABO'].corr(df['tiempo_trabajo'], method='spearman')"
   ]
  },
  {
   "cell_type": "code",
   "execution_count": 67,
   "metadata": {},
   "outputs": [
    {
     "data": {
      "text/plain": [
       "0.0694007243312306"
      ]
     },
     "execution_count": 67,
     "metadata": {},
     "output_type": "execute_result"
    }
   ],
   "source": [
    "# Kendall correlation\n",
    "\n",
    "df['INGLABO'].corr(df['tiempo_trabajo'], method='kendall')"
   ]
  },
  {
   "cell_type": "code",
   "execution_count": null,
   "metadata": {},
   "outputs": [],
   "source": []
  },
  {
   "cell_type": "code",
   "execution_count": null,
   "metadata": {},
   "outputs": [],
   "source": []
  }
 ],
 "metadata": {
  "kernelspec": {
   "display_name": "Python 3",
   "language": "python",
   "name": "python3"
  },
  "language_info": {
   "codemirror_mode": {
    "name": "ipython",
    "version": 3
   },
   "file_extension": ".py",
   "mimetype": "text/x-python",
   "name": "python",
   "nbconvert_exporter": "python",
   "pygments_lexer": "ipython3",
   "version": "3.12.6"
  }
 },
 "nbformat": 4,
 "nbformat_minor": 2
}
