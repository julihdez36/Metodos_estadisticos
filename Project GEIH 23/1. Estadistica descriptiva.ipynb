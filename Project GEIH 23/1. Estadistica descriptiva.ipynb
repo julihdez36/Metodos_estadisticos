{
 "cells": [
  {
   "cell_type": "code",
   "execution_count": 3,
   "metadata": {},
   "outputs": [],
   "source": [
    "# Importación de librerías\n",
    "\n",
    "import numpy as np\n",
    "import pandas as pd\n",
    "import matplotlib.pyplot as plt\n",
    "import seaborn as sns\n",
    "import os"
   ]
  },
  {
   "cell_type": "code",
   "execution_count": 9,
   "metadata": {},
   "outputs": [],
   "source": [
    "os.chdir('c:\\\\Users\\\\Julian\\\\Desktop\\\\Cursos\\\\Cursos Github\\\\Metodos_estadisticos')"
   ]
  },
  {
   "cell_type": "code",
   "execution_count": 11,
   "metadata": {},
   "outputs": [],
   "source": [
    "df = pd.read_csv('Data sets\\\\datos.csv')"
   ]
  },
  {
   "cell_type": "code",
   "execution_count": 13,
   "metadata": {},
   "outputs": [
    {
     "name": "stdout",
     "output_type": "stream",
     "text": [
      "Index(['primary_key', 'MES_x', 'CLASE_x', 'FEX_C18_x', 'DPTO_x', 'SEXO',\n",
      "       'EDAD', 'CAMPESINO', 'CULTURA', 'EST_CIVIL', 'LEE', 'NIVEL_EDUC',\n",
      "       'EDUC', 'NIVEL_EDUC_CAT', 'MES_y', 'CLASE_y', 'FEX_C18_y', 'DPTO_y',\n",
      "       'contrato', 'contrato_verbal', 'termino_contrato', 'misma_empresa',\n",
      "       'tiempo_trabajo', 'puesto', 'empresa_registrada', 'salario_bruto',\n",
      "       'hora_semanales', 'no_empleados', 'RAMA2D_R4', 'INGLABO', 'RAMA4D_R4',\n",
      "       'OFICIO_C8'],\n",
      "      dtype='object')\n"
     ]
    },
    {
     "data": {
      "text/html": [
       "<div>\n",
       "<style scoped>\n",
       "    .dataframe tbody tr th:only-of-type {\n",
       "        vertical-align: middle;\n",
       "    }\n",
       "\n",
       "    .dataframe tbody tr th {\n",
       "        vertical-align: top;\n",
       "    }\n",
       "\n",
       "    .dataframe thead th {\n",
       "        text-align: right;\n",
       "    }\n",
       "</style>\n",
       "<table border=\"1\" class=\"dataframe\">\n",
       "  <thead>\n",
       "    <tr style=\"text-align: right;\">\n",
       "      <th></th>\n",
       "      <th>primary_key</th>\n",
       "      <th>MES_x</th>\n",
       "      <th>CLASE_x</th>\n",
       "      <th>FEX_C18_x</th>\n",
       "      <th>DPTO_x</th>\n",
       "      <th>SEXO</th>\n",
       "      <th>EDAD</th>\n",
       "      <th>CAMPESINO</th>\n",
       "      <th>CULTURA</th>\n",
       "      <th>EST_CIVIL</th>\n",
       "      <th>...</th>\n",
       "      <th>tiempo_trabajo</th>\n",
       "      <th>puesto</th>\n",
       "      <th>empresa_registrada</th>\n",
       "      <th>salario_bruto</th>\n",
       "      <th>hora_semanales</th>\n",
       "      <th>no_empleados</th>\n",
       "      <th>RAMA2D_R4</th>\n",
       "      <th>INGLABO</th>\n",
       "      <th>RAMA4D_R4</th>\n",
       "      <th>OFICIO_C8</th>\n",
       "    </tr>\n",
       "  </thead>\n",
       "  <tbody>\n",
       "    <tr>\n",
       "      <th>77316</th>\n",
       "      <td>7642412-1-1-1</td>\n",
       "      <td>diciembre</td>\n",
       "      <td>1</td>\n",
       "      <td>360.030967</td>\n",
       "      <td>Risaralda</td>\n",
       "      <td>Hombre</td>\n",
       "      <td>56</td>\n",
       "      <td>2</td>\n",
       "      <td>6</td>\n",
       "      <td>Casado</td>\n",
       "      <td>...</td>\n",
       "      <td>10</td>\n",
       "      <td>1</td>\n",
       "      <td>1.0</td>\n",
       "      <td>1500000.0</td>\n",
       "      <td>45</td>\n",
       "      <td>9</td>\n",
       "      <td>29</td>\n",
       "      <td>1500000.0</td>\n",
       "      <td>2910</td>\n",
       "      <td>8211</td>\n",
       "    </tr>\n",
       "    <tr>\n",
       "      <th>106857</th>\n",
       "      <td>7324346-1-2-1</td>\n",
       "      <td>enero</td>\n",
       "      <td>1</td>\n",
       "      <td>395.175581</td>\n",
       "      <td>Risaralda</td>\n",
       "      <td>Hombre</td>\n",
       "      <td>83</td>\n",
       "      <td>1</td>\n",
       "      <td>6</td>\n",
       "      <td>Viudo</td>\n",
       "      <td>...</td>\n",
       "      <td>280</td>\n",
       "      <td>4</td>\n",
       "      <td>NaN</td>\n",
       "      <td>NaN</td>\n",
       "      <td>55</td>\n",
       "      <td>1</td>\n",
       "      <td>56</td>\n",
       "      <td>70000.0</td>\n",
       "      <td>5619</td>\n",
       "      <td>5212</td>\n",
       "    </tr>\n",
       "    <tr>\n",
       "      <th>5897</th>\n",
       "      <td>7401654-1-1-1</td>\n",
       "      <td>abril</td>\n",
       "      <td>1</td>\n",
       "      <td>34.698902</td>\n",
       "      <td>Vichada</td>\n",
       "      <td>Hombre</td>\n",
       "      <td>41</td>\n",
       "      <td>2</td>\n",
       "      <td>6</td>\n",
       "      <td>Casado</td>\n",
       "      <td>...</td>\n",
       "      <td>216</td>\n",
       "      <td>2</td>\n",
       "      <td>1.0</td>\n",
       "      <td>7000000.0</td>\n",
       "      <td>84</td>\n",
       "      <td>10</td>\n",
       "      <td>84</td>\n",
       "      <td>7000000.0</td>\n",
       "      <td>8422</td>\n",
       "      <td>110</td>\n",
       "    </tr>\n",
       "    <tr>\n",
       "      <th>269003</th>\n",
       "      <td>7447654-1-1-1</td>\n",
       "      <td>mayo</td>\n",
       "      <td>1</td>\n",
       "      <td>97.783805</td>\n",
       "      <td>Boyacá</td>\n",
       "      <td>Hombre</td>\n",
       "      <td>27</td>\n",
       "      <td>2</td>\n",
       "      <td>6</td>\n",
       "      <td>Soltero</td>\n",
       "      <td>...</td>\n",
       "      <td>60</td>\n",
       "      <td>1</td>\n",
       "      <td>1.0</td>\n",
       "      <td>1160000.0</td>\n",
       "      <td>48</td>\n",
       "      <td>10</td>\n",
       "      <td>33</td>\n",
       "      <td>1160000.0</td>\n",
       "      <td>3312</td>\n",
       "      <td>7412</td>\n",
       "    </tr>\n",
       "    <tr>\n",
       "      <th>285200</th>\n",
       "      <td>7605853-1-3-1</td>\n",
       "      <td>noviembre</td>\n",
       "      <td>1</td>\n",
       "      <td>88.804412</td>\n",
       "      <td>Cauca</td>\n",
       "      <td>Hombre</td>\n",
       "      <td>19</td>\n",
       "      <td>2</td>\n",
       "      <td>6</td>\n",
       "      <td>Soltero</td>\n",
       "      <td>...</td>\n",
       "      <td>24</td>\n",
       "      <td>4</td>\n",
       "      <td>NaN</td>\n",
       "      <td>NaN</td>\n",
       "      <td>36</td>\n",
       "      <td>3</td>\n",
       "      <td>47</td>\n",
       "      <td>300000.0</td>\n",
       "      <td>4771</td>\n",
       "      <td>5223</td>\n",
       "    </tr>\n",
       "  </tbody>\n",
       "</table>\n",
       "<p>5 rows × 32 columns</p>\n",
       "</div>"
      ],
      "text/plain": [
       "          primary_key      MES_x  CLASE_x   FEX_C18_x     DPTO_x    SEXO  \\\n",
       "77316   7642412-1-1-1  diciembre        1  360.030967  Risaralda  Hombre   \n",
       "106857  7324346-1-2-1      enero        1  395.175581  Risaralda  Hombre   \n",
       "5897    7401654-1-1-1      abril        1   34.698902    Vichada  Hombre   \n",
       "269003  7447654-1-1-1       mayo        1   97.783805     Boyacá  Hombre   \n",
       "285200  7605853-1-3-1  noviembre        1   88.804412      Cauca  Hombre   \n",
       "\n",
       "        EDAD  CAMPESINO  CULTURA EST_CIVIL  ...  tiempo_trabajo  puesto  \\\n",
       "77316     56          2        6    Casado  ...              10       1   \n",
       "106857    83          1        6     Viudo  ...             280       4   \n",
       "5897      41          2        6    Casado  ...             216       2   \n",
       "269003    27          2        6   Soltero  ...              60       1   \n",
       "285200    19          2        6   Soltero  ...              24       4   \n",
       "\n",
       "        empresa_registrada salario_bruto  hora_semanales  no_empleados  \\\n",
       "77316                  1.0     1500000.0              45             9   \n",
       "106857                 NaN           NaN              55             1   \n",
       "5897                   1.0     7000000.0              84            10   \n",
       "269003                 1.0     1160000.0              48            10   \n",
       "285200                 NaN           NaN              36             3   \n",
       "\n",
       "        RAMA2D_R4    INGLABO  RAMA4D_R4  OFICIO_C8  \n",
       "77316          29  1500000.0       2910       8211  \n",
       "106857         56    70000.0       5619       5212  \n",
       "5897           84  7000000.0       8422        110  \n",
       "269003         33  1160000.0       3312       7412  \n",
       "285200         47   300000.0       4771       5223  \n",
       "\n",
       "[5 rows x 32 columns]"
      ]
     },
     "execution_count": 13,
     "metadata": {},
     "output_type": "execute_result"
    }
   ],
   "source": [
    "print(df.columns)\n",
    "df.sample(5)\n"
   ]
  },
  {
   "cell_type": "code",
   "execution_count": 18,
   "metadata": {},
   "outputs": [
    {
     "name": "stdout",
     "output_type": "stream",
     "text": [
      "<class 'pandas.core.series.Series'>\n",
      "RangeIndex: 365814 entries, 0 to 365813\n",
      "Series name: INGLABO\n",
      "Non-Null Count   Dtype  \n",
      "--------------   -----  \n",
      "351886 non-null  float64\n",
      "dtypes: float64(1)\n",
      "memory usage: 2.8 MB\n"
     ]
    }
   ],
   "source": [
    "df.INGLABO.info()"
   ]
  },
  {
   "cell_type": "code",
   "execution_count": 20,
   "metadata": {},
   "outputs": [
    {
     "data": {
      "text/plain": [
       "EDAD\n",
       "30    9622\n",
       "33    9584\n",
       "32    9432\n",
       "40    9323\n",
       "28    9319\n",
       "      ... \n",
       "96       4\n",
       "94       2\n",
       "95       1\n",
       "93       1\n",
       "98       1\n",
       "Name: count, Length: 83, dtype: int64"
      ]
     },
     "execution_count": 20,
     "metadata": {},
     "output_type": "execute_result"
    }
   ],
   "source": [
    "df.EDAD.value_counts()"
   ]
  },
  {
   "cell_type": "code",
   "execution_count": 22,
   "metadata": {},
   "outputs": [
    {
     "data": {
      "image/png": "[encoded data removed]",
      "text/plain": [
       "<Figure size 640x480 with 1 Axes>"
      ]
     },
     "metadata": {},
     "output_type": "display_data"
    }
   ],
   "source": [
    "sns.histplot(df.EDAD);"
   ]
  }
 ],
 "metadata": {
  "kernelspec": {
   "display_name": "Python 3",
   "language": "python",
   "name": "python3"
  },
  "language_info": {
   "codemirror_mode": {
    "name": "ipython",
    "version": 3
   },
   "file_extension": ".py",
   "mimetype": "text/x-python",
   "name": "python",
   "nbconvert_exporter": "python",
   "pygments_lexer": "ipython3",
   "version": "3.12.5"
  }
 },
 "nbformat": 4,
 "nbformat_minor": 2
}
