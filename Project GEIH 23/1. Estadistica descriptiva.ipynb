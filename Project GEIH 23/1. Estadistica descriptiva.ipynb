{
 "cells": [
  {
   "cell_type": "code",
   "execution_count": 1,
   "metadata": {},
   "outputs": [],
   "source": [
    "# Importación de librerías\n",
    "\n",
    "import numpy as np\n",
    "import pandas as pd\n",
    "import matplotlib.pyplot as plt\n",
    "import seaborn as sns\n",
    "import os"
   ]
  },
  {
   "cell_type": "code",
   "execution_count": 2,
   "metadata": {},
   "outputs": [],
   "source": [
    "os.chdir('c:\\\\Users\\\\Julian\\\\Desktop\\\\Cursos\\\\Cursos Github\\\\Metodos_estadisticos')"
   ]
  },
  {
   "cell_type": "code",
   "execution_count": 3,
   "metadata": {},
   "outputs": [],
   "source": [
    "df = pd.read_csv('Data sets\\\\datos.csv')"
   ]
  },
  {
   "cell_type": "code",
   "execution_count": 4,
   "metadata": {},
   "outputs": [
    {
     "name": "stdout",
     "output_type": "stream",
     "text": [
      "Index(['primary_key', 'MES_x', 'CLASE_x', 'FEX_C18_x', 'DPTO_x', 'SEXO',\n",
      "       'EDAD', 'CAMPESINO', 'CULTURA', 'EST_CIVIL', 'LEE', 'NIVEL_EDUC',\n",
      "       'EDUC', 'NIVEL_EDUC_CAT', 'MES_y', 'CLASE_y', 'FEX_C18_y', 'DPTO_y',\n",
      "       'contrato', 'contrato_verbal', 'termino_contrato', 'misma_empresa',\n",
      "       'tiempo_trabajo', 'puesto', 'empresa_registrada', 'salario_bruto',\n",
      "       'hora_semanales', 'no_empleados', 'RAMA2D_R4', 'INGLABO', 'RAMA4D_R4',\n",
      "       'OFICIO_C8'],\n",
      "      dtype='object')\n"
     ]
    },
    {
     "data": {
      "text/html": [
       "<div>\n",
       "<style scoped>\n",
       "    .dataframe tbody tr th:only-of-type {\n",
       "        vertical-align: middle;\n",
       "    }\n",
       "\n",
       "    .dataframe tbody tr th {\n",
       "        vertical-align: top;\n",
       "    }\n",
       "\n",
       "    .dataframe thead th {\n",
       "        text-align: right;\n",
       "    }\n",
       "</style>\n",
       "<table border=\"1\" class=\"dataframe\">\n",
       "  <thead>\n",
       "    <tr style=\"text-align: right;\">\n",
       "      <th></th>\n",
       "      <th>primary_key</th>\n",
       "      <th>MES_x</th>\n",
       "      <th>CLASE_x</th>\n",
       "      <th>FEX_C18_x</th>\n",
       "      <th>DPTO_x</th>\n",
       "      <th>SEXO</th>\n",
       "      <th>EDAD</th>\n",
       "      <th>CAMPESINO</th>\n",
       "      <th>CULTURA</th>\n",
       "      <th>EST_CIVIL</th>\n",
       "      <th>...</th>\n",
       "      <th>tiempo_trabajo</th>\n",
       "      <th>puesto</th>\n",
       "      <th>empresa_registrada</th>\n",
       "      <th>salario_bruto</th>\n",
       "      <th>hora_semanales</th>\n",
       "      <th>no_empleados</th>\n",
       "      <th>RAMA2D_R4</th>\n",
       "      <th>INGLABO</th>\n",
       "      <th>RAMA4D_R4</th>\n",
       "      <th>OFICIO_C8</th>\n",
       "    </tr>\n",
       "  </thead>\n",
       "  <tbody>\n",
       "    <tr>\n",
       "      <th>348525</th>\n",
       "      <td>7551509-1-1-1</td>\n",
       "      <td>septiembre</td>\n",
       "      <td>2</td>\n",
       "      <td>469.363958</td>\n",
       "      <td>Caldas</td>\n",
       "      <td>Hombre</td>\n",
       "      <td>43</td>\n",
       "      <td>1</td>\n",
       "      <td>6</td>\n",
       "      <td>Casado</td>\n",
       "      <td>...</td>\n",
       "      <td>0</td>\n",
       "      <td>7</td>\n",
       "      <td>9.0</td>\n",
       "      <td>600000.0</td>\n",
       "      <td>50</td>\n",
       "      <td>2</td>\n",
       "      <td>1</td>\n",
       "      <td>600000.0</td>\n",
       "      <td>123</td>\n",
       "      <td>9211</td>\n",
       "    </tr>\n",
       "    <tr>\n",
       "      <th>103247</th>\n",
       "      <td>7320877-1-1-1</td>\n",
       "      <td>enero</td>\n",
       "      <td>1</td>\n",
       "      <td>106.285507</td>\n",
       "      <td>Arauca</td>\n",
       "      <td>Hombre</td>\n",
       "      <td>35</td>\n",
       "      <td>2</td>\n",
       "      <td>6</td>\n",
       "      <td>Soltero</td>\n",
       "      <td>...</td>\n",
       "      <td>4</td>\n",
       "      <td>4</td>\n",
       "      <td>NaN</td>\n",
       "      <td>NaN</td>\n",
       "      <td>48</td>\n",
       "      <td>7</td>\n",
       "      <td>84</td>\n",
       "      <td>3000000.0</td>\n",
       "      <td>8413</td>\n",
       "      <td>2642</td>\n",
       "    </tr>\n",
       "    <tr>\n",
       "      <th>363806</th>\n",
       "      <td>7565361-1-3-1</td>\n",
       "      <td>septiembre</td>\n",
       "      <td>1</td>\n",
       "      <td>126.801473</td>\n",
       "      <td>Cauca</td>\n",
       "      <td>Mujer</td>\n",
       "      <td>26</td>\n",
       "      <td>2</td>\n",
       "      <td>6</td>\n",
       "      <td>Soltero</td>\n",
       "      <td>...</td>\n",
       "      <td>3</td>\n",
       "      <td>3</td>\n",
       "      <td>2.0</td>\n",
       "      <td>400000.0</td>\n",
       "      <td>36</td>\n",
       "      <td>1</td>\n",
       "      <td>97</td>\n",
       "      <td>400000.0</td>\n",
       "      <td>9700</td>\n",
       "      <td>5311</td>\n",
       "    </tr>\n",
       "    <tr>\n",
       "      <th>291348</th>\n",
       "      <td>7611677-1-3-1</td>\n",
       "      <td>noviembre</td>\n",
       "      <td>1</td>\n",
       "      <td>1181.397253</td>\n",
       "      <td>Magdalena</td>\n",
       "      <td>Hombre</td>\n",
       "      <td>29</td>\n",
       "      <td>2</td>\n",
       "      <td>6</td>\n",
       "      <td>Pareja &gt;= 2</td>\n",
       "      <td>...</td>\n",
       "      <td>96</td>\n",
       "      <td>4</td>\n",
       "      <td>NaN</td>\n",
       "      <td>NaN</td>\n",
       "      <td>60</td>\n",
       "      <td>1</td>\n",
       "      <td>49</td>\n",
       "      <td>1000000.0</td>\n",
       "      <td>4921</td>\n",
       "      <td>8321</td>\n",
       "    </tr>\n",
       "    <tr>\n",
       "      <th>271733</th>\n",
       "      <td>7450151-1-1-1</td>\n",
       "      <td>mayo</td>\n",
       "      <td>2</td>\n",
       "      <td>211.336225</td>\n",
       "      <td>Quindio</td>\n",
       "      <td>Hombre</td>\n",
       "      <td>28</td>\n",
       "      <td>2</td>\n",
       "      <td>6</td>\n",
       "      <td>Soltero</td>\n",
       "      <td>...</td>\n",
       "      <td>12</td>\n",
       "      <td>1</td>\n",
       "      <td>9.0</td>\n",
       "      <td>1800000.0</td>\n",
       "      <td>40</td>\n",
       "      <td>6</td>\n",
       "      <td>1</td>\n",
       "      <td>1800000.0</td>\n",
       "      <td>144</td>\n",
       "      <td>2250</td>\n",
       "    </tr>\n",
       "  </tbody>\n",
       "</table>\n",
       "<p>5 rows × 32 columns</p>\n",
       "</div>"
      ],
      "text/plain": [
       "          primary_key       MES_x  CLASE_x    FEX_C18_x     DPTO_x    SEXO  \\\n",
       "348525  7551509-1-1-1  septiembre        2   469.363958     Caldas  Hombre   \n",
       "103247  7320877-1-1-1       enero        1   106.285507     Arauca  Hombre   \n",
       "363806  7565361-1-3-1  septiembre        1   126.801473      Cauca   Mujer   \n",
       "291348  7611677-1-3-1   noviembre        1  1181.397253  Magdalena  Hombre   \n",
       "271733  7450151-1-1-1        mayo        2   211.336225    Quindio  Hombre   \n",
       "\n",
       "        EDAD  CAMPESINO  CULTURA    EST_CIVIL  ...  tiempo_trabajo  puesto  \\\n",
       "348525    43          1        6       Casado  ...               0       7   \n",
       "103247    35          2        6      Soltero  ...               4       4   \n",
       "363806    26          2        6      Soltero  ...               3       3   \n",
       "291348    29          2        6  Pareja >= 2  ...              96       4   \n",
       "271733    28          2        6      Soltero  ...              12       1   \n",
       "\n",
       "        empresa_registrada salario_bruto  hora_semanales  no_empleados  \\\n",
       "348525                 9.0      600000.0              50             2   \n",
       "103247                 NaN           NaN              48             7   \n",
       "363806                 2.0      400000.0              36             1   \n",
       "291348                 NaN           NaN              60             1   \n",
       "271733                 9.0     1800000.0              40             6   \n",
       "\n",
       "        RAMA2D_R4    INGLABO  RAMA4D_R4  OFICIO_C8  \n",
       "348525          1   600000.0        123       9211  \n",
       "103247         84  3000000.0       8413       2642  \n",
       "363806         97   400000.0       9700       5311  \n",
       "291348         49  1000000.0       4921       8321  \n",
       "271733          1  1800000.0        144       2250  \n",
       "\n",
       "[5 rows x 32 columns]"
      ]
     },
     "execution_count": 4,
     "metadata": {},
     "output_type": "execute_result"
    }
   ],
   "source": [
    "print(df.columns)\n",
    "df.sample(5)"
   ]
  },
  {
   "cell_type": "code",
   "execution_count": 28,
   "metadata": {},
   "outputs": [],
   "source": [
    "df = df[(df.INGLABO >= 5000)] \n",
    "df = df.dropna(subset=['INGLABO'])"
   ]
  },
  {
   "cell_type": "code",
   "execution_count": 29,
   "metadata": {},
   "outputs": [
    {
     "data": {
      "text/plain": [
       "count      348329.00\n",
       "mean      1496001.39\n",
       "std       2173975.58\n",
       "min          5000.00\n",
       "25%        600000.00\n",
       "50%       1160000.00\n",
       "75%       1500000.00\n",
       "max     124000000.00\n",
       "Name: INGLABO, dtype: float64"
      ]
     },
     "execution_count": 29,
     "metadata": {},
     "output_type": "execute_result"
    }
   ],
   "source": [
    "pd.options.display.float_format = '{:.2f}'.format\n",
    "df.INGLABO.describe()"
   ]
  },
  {
   "cell_type": "code",
   "execution_count": 30,
   "metadata": {},
   "outputs": [
    {
     "data": {
      "text/plain": [
       "count   348329.00\n",
       "mean        41.15\n",
       "std         13.90\n",
       "min         15.00\n",
       "25%         30.00\n",
       "50%         40.00\n",
       "75%         52.00\n",
       "max         98.00\n",
       "Name: EDAD, dtype: float64"
      ]
     },
     "execution_count": 30,
     "metadata": {},
     "output_type": "execute_result"
    }
   ],
   "source": [
    "df.EDAD.describe()"
   ]
  },
  {
   "cell_type": "markdown",
   "metadata": {},
   "source": [
    "## Medidas de centralidad"
   ]
  },
  {
   "cell_type": "markdown",
   "metadata": {},
   "source": [
    "### La media \n",
    "\n",
    "La media de un conjunto de observaciones es simplemente un promedio normal y antiguo: se suman todos los valores y luego se divide por el número total de valores.\n",
    "\n",
    "$$\\bar{x} = \\frac{1}{n}  \\ \\sum_{i=1}^{n} x_{i}$$"
   ]
  },
  {
   "cell_type": "code",
   "execution_count": 36,
   "metadata": {},
   "outputs": [
    {
     "data": {
      "text/plain": [
       "1496001.3938316936"
      ]
     },
     "execution_count": 36,
     "metadata": {},
     "output_type": "execute_result"
    }
   ],
   "source": [
    "n = len(df.INGLABO)\n",
    "Sigma = sum(df.INGLABO)\n",
    "1/n * Sigma # 1'496.001"
   ]
  },
  {
   "cell_type": "code",
   "execution_count": 37,
   "metadata": {},
   "outputs": [
    {
     "data": {
      "text/plain": [
       "1496001.3938316936"
      ]
     },
     "execution_count": 37,
     "metadata": {},
     "output_type": "execute_result"
    }
   ],
   "source": [
    "df.INGLABO.mean() # mean funciona por numpy y pandas"
   ]
  },
  {
   "cell_type": "code",
   "execution_count": 38,
   "metadata": {},
   "outputs": [
    {
     "data": {
      "text/plain": [
       "1496001.3938316936"
      ]
     },
     "execution_count": 38,
     "metadata": {},
     "output_type": "execute_result"
    }
   ],
   "source": [
    "import statistics\n",
    "statistics.mean(df.INGLABO)"
   ]
  },
  {
   "cell_type": "markdown",
   "metadata": {},
   "source": [
    "### La mediana"
   ]
  },
  {
   "cell_type": "code",
   "execution_count": 80,
   "metadata": {},
   "outputs": [
    {
     "data": {
      "text/plain": [
       "321938        5000.00\n",
       "203173        5000.00\n",
       "349761        5000.00\n",
       "62677         5000.00\n",
       "182917        5000.00\n",
       "             ...     \n",
       "103755   100000000.00\n",
       "135500   100000000.00\n",
       "318842   100000000.00\n",
       "225057   100000000.00\n",
       "91644    124000000.00\n",
       "Name: INGLABO, Length: 348329, dtype: float64"
      ]
     },
     "execution_count": 80,
     "metadata": {},
     "output_type": "execute_result"
    }
   ],
   "source": [
    "# Ordenamos los valores\n",
    "sorted_inglabo = df.INGLABO.sort_values(ascending= True)\n",
    "sorted_inglabo"
   ]
  },
  {
   "cell_type": "code",
   "execution_count": 94,
   "metadata": {},
   "outputs": [
    {
     "name": "stdout",
     "output_type": "stream",
     "text": [
      "1160000.0\n"
     ]
    }
   ],
   "source": [
    "# Calculamos la mediana\n",
    "\n",
    "if n % 2 == 1:  # Si el número de elementos es impar\n",
    "    mediana = sorted_inglabo.iloc[n // 2]  # Tomamos el valor central\n",
    "else:  # Si el número de elementos es par\n",
    "    mediana = (sorted_inglabo.iloc[n // 2 - 1] + sorted_inglabo.iloc[n // 2]) / 2  # Promedio de los dos valores centrales\n",
    "\n",
    "print(mediana)\n"
   ]
  },
  {
   "cell_type": "code",
   "execution_count": 106,
   "metadata": {},
   "outputs": [],
   "source": [
    "# Creamos la formula\n",
    "\n",
    "def fmediana(x):\n",
    "    import pandas as pd\n",
    "    x = pd.Series(x)\n",
    "    n = len(x)\n",
    "    x = x.sort_values(ascending= True)\n",
    "    if n % 2 == 1:\n",
    "        return x.iloc[n // 2] \n",
    "    else: \n",
    "        return (x.iloc[n // 2 - 1] + x.iloc[n // 2]) / 2"
   ]
  },
  {
   "cell_type": "code",
   "execution_count": 107,
   "metadata": {},
   "outputs": [
    {
     "data": {
      "text/plain": [
       "1160000.0"
      ]
     },
     "execution_count": 107,
     "metadata": {},
     "output_type": "execute_result"
    }
   ],
   "source": [
    "fmediana(df.INGLABO)"
   ]
  },
  {
   "cell_type": "code",
   "execution_count": 108,
   "metadata": {},
   "outputs": [
    {
     "data": {
      "text/plain": [
       "1160000.0"
      ]
     },
     "execution_count": 108,
     "metadata": {},
     "output_type": "execute_result"
    }
   ],
   "source": [
    "df.INGLABO.median()"
   ]
  },
  {
   "cell_type": "code",
   "execution_count": 109,
   "metadata": {},
   "outputs": [
    {
     "data": {
      "text/plain": [
       "3.0"
      ]
     },
     "execution_count": 109,
     "metadata": {},
     "output_type": "execute_result"
    }
   ],
   "source": [
    "fmediana(df.EDUC)"
   ]
  },
  {
   "cell_type": "code",
   "execution_count": 110,
   "metadata": {},
   "outputs": [
    {
     "data": {
      "text/plain": [
       "3.0"
      ]
     },
     "execution_count": 110,
     "metadata": {},
     "output_type": "execute_result"
    }
   ],
   "source": [
    "df.EDUC.median()"
   ]
  },
  {
   "cell_type": "markdown",
   "metadata": {},
   "source": [
    "### Media o mediana"
   ]
  },
  {
   "cell_type": "code",
   "execution_count": 118,
   "metadata": {},
   "outputs": [
    {
     "data": {
      "image/png": "[encoded data removed]",
      "text/plain": [
       "<Figure size 640x480 with 1 Axes>"
      ]
     },
     "metadata": {},
     "output_type": "display_data"
    }
   ],
   "source": [
    "media = df.INGLABO.mean()\n",
    "mediana = df.INGLABO.median()\n",
    "\n",
    "sns.histplot(df.INGLABO, bins='sturges', color = 'purple')\n",
    "plt.axvline(media, color = 'red', linestyle = '--', label = 'Media')\n",
    "plt.axvline(mediana, color = 'blue', linestyle = '--', label = 'mediana')\n",
    "\n",
    "plt.legend()\n",
    "\n",
    "sns.despine();"
   ]
  },
  {
   "cell_type": "code",
   "execution_count": 115,
   "metadata": {},
   "outputs": [],
   "source": [
    "def comparacion_centralidad(x, bins = 'sturges', color_bars = 'purple', color_media = 'red',color_mediana = 'blue'):\n",
    "    x = pd.Series(x)\n",
    "    \n",
    "    media = x.mean()\n",
    "    mediana = x.median()\n",
    "    \n",
    "    sns.histplot(x, bins = bins, color = color_bars)\n",
    "    plt.axvline(media, color = color_media, linestyle = '--', label = 'Media')\n",
    "    plt.axvline(mediana, color = color_mediana, linestyle = '--', label = 'Mediana')\n",
    "    plt.legend()\n",
    "    plt.plot()"
   ]
  },
  {
   "cell_type": "code",
   "execution_count": 126,
   "metadata": {},
   "outputs": [
    {
     "data": {
      "image/png": "[encoded data removed]",
      "text/plain": [
       "<Figure size 640x480 with 1 Axes>"
      ]
     },
     "metadata": {},
     "output_type": "display_data"
    }
   ],
   "source": [
    "comparacion_centralidad(df.INGLABO)\n",
    "plt.xlim(0,20000000);"
   ]
  },
  {
   "cell_type": "code",
   "execution_count": 120,
   "metadata": {},
   "outputs": [
    {
     "data": {
      "text/plain": [
       "Index(['primary_key', 'MES_x', 'CLASE_x', 'FEX_C18_x', 'DPTO_x', 'SEXO',\n",
       "       'EDAD', 'CAMPESINO', 'CULTURA', 'EST_CIVIL', 'LEE', 'NIVEL_EDUC',\n",
       "       'EDUC', 'NIVEL_EDUC_CAT', 'MES_y', 'CLASE_y', 'FEX_C18_y', 'DPTO_y',\n",
       "       'contrato', 'contrato_verbal', 'termino_contrato', 'misma_empresa',\n",
       "       'tiempo_trabajo', 'puesto', 'empresa_registrada', 'salario_bruto',\n",
       "       'hora_semanales', 'no_empleados', 'RAMA2D_R4', 'INGLABO', 'RAMA4D_R4',\n",
       "       'OFICIO_C8'],\n",
       "      dtype='object')"
      ]
     },
     "execution_count": 120,
     "metadata": {},
     "output_type": "execute_result"
    }
   ],
   "source": [
    "df.columns"
   ]
  }
 ],
 "metadata": {
  "kernelspec": {
   "display_name": "Python 3",
   "language": "python",
   "name": "python3"
  },
  "language_info": {
   "codemirror_mode": {
    "name": "ipython",
    "version": 3
   },
   "file_extension": ".py",
   "mimetype": "text/x-python",
   "name": "python",
   "nbconvert_exporter": "python",
   "pygments_lexer": "ipython3",
   "version": "3.12.5"
  }
 },
 "nbformat": 4,
 "nbformat_minor": 2
}
