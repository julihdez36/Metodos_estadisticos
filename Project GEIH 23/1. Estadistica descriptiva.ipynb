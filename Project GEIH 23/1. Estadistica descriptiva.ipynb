{
 "cells": [
  {
   "cell_type": "code",
   "execution_count": 1,
   "metadata": {},
   "outputs": [],
   "source": [
    "# Importación de librerías\n",
    "\n",
    "import numpy as np\n",
    "import pandas as pd\n",
    "import matplotlib.pyplot as plt\n",
    "import seaborn as sns\n",
    "import os"
   ]
  },
  {
   "cell_type": "code",
   "execution_count": 2,
   "metadata": {},
   "outputs": [],
   "source": [
    "os.chdir('c:\\\\Users\\\\Julian\\\\Desktop\\\\Cursos\\\\Cursos Github\\\\Metodos_estadisticos')"
   ]
  },
  {
   "cell_type": "code",
   "execution_count": 3,
   "metadata": {},
   "outputs": [],
   "source": [
    "df = pd.read_csv('Data sets\\\\datos.csv')"
   ]
  },
  {
   "cell_type": "code",
   "execution_count": 4,
   "metadata": {},
   "outputs": [
    {
     "name": "stdout",
     "output_type": "stream",
     "text": [
      "Index(['primary_key', 'MES_x', 'CLASE_x', 'FEX_C18_x', 'DPTO_x', 'SEXO',\n",
      "       'EDAD', 'CAMPESINO', 'CULTURA', 'EST_CIVIL', 'LEE', 'NIVEL_EDUC',\n",
      "       'EDUC', 'NIVEL_EDUC_CAT', 'MES_y', 'CLASE_y', 'FEX_C18_y', 'DPTO_y',\n",
      "       'contrato', 'contrato_verbal', 'termino_contrato', 'misma_empresa',\n",
      "       'tiempo_trabajo', 'puesto', 'empresa_registrada', 'salario_bruto',\n",
      "       'hora_semanales', 'no_empleados', 'RAMA2D_R4', 'INGLABO', 'RAMA4D_R4',\n",
      "       'OFICIO_C8'],\n",
      "      dtype='object')\n"
     ]
    },
    {
     "data": {
      "text/html": [
       "<div>\n",
       "<style scoped>\n",
       "    .dataframe tbody tr th:only-of-type {\n",
       "        vertical-align: middle;\n",
       "    }\n",
       "\n",
       "    .dataframe tbody tr th {\n",
       "        vertical-align: top;\n",
       "    }\n",
       "\n",
       "    .dataframe thead th {\n",
       "        text-align: right;\n",
       "    }\n",
       "</style>\n",
       "<table border=\"1\" class=\"dataframe\">\n",
       "  <thead>\n",
       "    <tr style=\"text-align: right;\">\n",
       "      <th></th>\n",
       "      <th>primary_key</th>\n",
       "      <th>MES_x</th>\n",
       "      <th>CLASE_x</th>\n",
       "      <th>FEX_C18_x</th>\n",
       "      <th>DPTO_x</th>\n",
       "      <th>SEXO</th>\n",
       "      <th>EDAD</th>\n",
       "      <th>CAMPESINO</th>\n",
       "      <th>CULTURA</th>\n",
       "      <th>EST_CIVIL</th>\n",
       "      <th>...</th>\n",
       "      <th>tiempo_trabajo</th>\n",
       "      <th>puesto</th>\n",
       "      <th>empresa_registrada</th>\n",
       "      <th>salario_bruto</th>\n",
       "      <th>hora_semanales</th>\n",
       "      <th>no_empleados</th>\n",
       "      <th>RAMA2D_R4</th>\n",
       "      <th>INGLABO</th>\n",
       "      <th>RAMA4D_R4</th>\n",
       "      <th>OFICIO_C8</th>\n",
       "    </tr>\n",
       "  </thead>\n",
       "  <tbody>\n",
       "    <tr>\n",
       "      <th>348525</th>\n",
       "      <td>7551509-1-1-1</td>\n",
       "      <td>septiembre</td>\n",
       "      <td>2</td>\n",
       "      <td>469.363958</td>\n",
       "      <td>Caldas</td>\n",
       "      <td>Hombre</td>\n",
       "      <td>43</td>\n",
       "      <td>1</td>\n",
       "      <td>6</td>\n",
       "      <td>Casado</td>\n",
       "      <td>...</td>\n",
       "      <td>0</td>\n",
       "      <td>7</td>\n",
       "      <td>9.0</td>\n",
       "      <td>600000.0</td>\n",
       "      <td>50</td>\n",
       "      <td>2</td>\n",
       "      <td>1</td>\n",
       "      <td>600000.0</td>\n",
       "      <td>123</td>\n",
       "      <td>9211</td>\n",
       "    </tr>\n",
       "    <tr>\n",
       "      <th>103247</th>\n",
       "      <td>7320877-1-1-1</td>\n",
       "      <td>enero</td>\n",
       "      <td>1</td>\n",
       "      <td>106.285507</td>\n",
       "      <td>Arauca</td>\n",
       "      <td>Hombre</td>\n",
       "      <td>35</td>\n",
       "      <td>2</td>\n",
       "      <td>6</td>\n",
       "      <td>Soltero</td>\n",
       "      <td>...</td>\n",
       "      <td>4</td>\n",
       "      <td>4</td>\n",
       "      <td>NaN</td>\n",
       "      <td>NaN</td>\n",
       "      <td>48</td>\n",
       "      <td>7</td>\n",
       "      <td>84</td>\n",
       "      <td>3000000.0</td>\n",
       "      <td>8413</td>\n",
       "      <td>2642</td>\n",
       "    </tr>\n",
       "    <tr>\n",
       "      <th>363806</th>\n",
       "      <td>7565361-1-3-1</td>\n",
       "      <td>septiembre</td>\n",
       "      <td>1</td>\n",
       "      <td>126.801473</td>\n",
       "      <td>Cauca</td>\n",
       "      <td>Mujer</td>\n",
       "      <td>26</td>\n",
       "      <td>2</td>\n",
       "      <td>6</td>\n",
       "      <td>Soltero</td>\n",
       "      <td>...</td>\n",
       "      <td>3</td>\n",
       "      <td>3</td>\n",
       "      <td>2.0</td>\n",
       "      <td>400000.0</td>\n",
       "      <td>36</td>\n",
       "      <td>1</td>\n",
       "      <td>97</td>\n",
       "      <td>400000.0</td>\n",
       "      <td>9700</td>\n",
       "      <td>5311</td>\n",
       "    </tr>\n",
       "    <tr>\n",
       "      <th>291348</th>\n",
       "      <td>7611677-1-3-1</td>\n",
       "      <td>noviembre</td>\n",
       "      <td>1</td>\n",
       "      <td>1181.397253</td>\n",
       "      <td>Magdalena</td>\n",
       "      <td>Hombre</td>\n",
       "      <td>29</td>\n",
       "      <td>2</td>\n",
       "      <td>6</td>\n",
       "      <td>Pareja &gt;= 2</td>\n",
       "      <td>...</td>\n",
       "      <td>96</td>\n",
       "      <td>4</td>\n",
       "      <td>NaN</td>\n",
       "      <td>NaN</td>\n",
       "      <td>60</td>\n",
       "      <td>1</td>\n",
       "      <td>49</td>\n",
       "      <td>1000000.0</td>\n",
       "      <td>4921</td>\n",
       "      <td>8321</td>\n",
       "    </tr>\n",
       "    <tr>\n",
       "      <th>271733</th>\n",
       "      <td>7450151-1-1-1</td>\n",
       "      <td>mayo</td>\n",
       "      <td>2</td>\n",
       "      <td>211.336225</td>\n",
       "      <td>Quindio</td>\n",
       "      <td>Hombre</td>\n",
       "      <td>28</td>\n",
       "      <td>2</td>\n",
       "      <td>6</td>\n",
       "      <td>Soltero</td>\n",
       "      <td>...</td>\n",
       "      <td>12</td>\n",
       "      <td>1</td>\n",
       "      <td>9.0</td>\n",
       "      <td>1800000.0</td>\n",
       "      <td>40</td>\n",
       "      <td>6</td>\n",
       "      <td>1</td>\n",
       "      <td>1800000.0</td>\n",
       "      <td>144</td>\n",
       "      <td>2250</td>\n",
       "    </tr>\n",
       "  </tbody>\n",
       "</table>\n",
       "<p>5 rows × 32 columns</p>\n",
       "</div>"
      ],
      "text/plain": [
       "          primary_key       MES_x  CLASE_x    FEX_C18_x     DPTO_x    SEXO  \\\n",
       "348525  7551509-1-1-1  septiembre        2   469.363958     Caldas  Hombre   \n",
       "103247  7320877-1-1-1       enero        1   106.285507     Arauca  Hombre   \n",
       "363806  7565361-1-3-1  septiembre        1   126.801473      Cauca   Mujer   \n",
       "291348  7611677-1-3-1   noviembre        1  1181.397253  Magdalena  Hombre   \n",
       "271733  7450151-1-1-1        mayo        2   211.336225    Quindio  Hombre   \n",
       "\n",
       "        EDAD  CAMPESINO  CULTURA    EST_CIVIL  ...  tiempo_trabajo  puesto  \\\n",
       "348525    43          1        6       Casado  ...               0       7   \n",
       "103247    35          2        6      Soltero  ...               4       4   \n",
       "363806    26          2        6      Soltero  ...               3       3   \n",
       "291348    29          2        6  Pareja >= 2  ...              96       4   \n",
       "271733    28          2        6      Soltero  ...              12       1   \n",
       "\n",
       "        empresa_registrada salario_bruto  hora_semanales  no_empleados  \\\n",
       "348525                 9.0      600000.0              50             2   \n",
       "103247                 NaN           NaN              48             7   \n",
       "363806                 2.0      400000.0              36             1   \n",
       "291348                 NaN           NaN              60             1   \n",
       "271733                 9.0     1800000.0              40             6   \n",
       "\n",
       "        RAMA2D_R4    INGLABO  RAMA4D_R4  OFICIO_C8  \n",
       "348525          1   600000.0        123       9211  \n",
       "103247         84  3000000.0       8413       2642  \n",
       "363806         97   400000.0       9700       5311  \n",
       "291348         49  1000000.0       4921       8321  \n",
       "271733          1  1800000.0        144       2250  \n",
       "\n",
       "[5 rows x 32 columns]"
      ]
     },
     "execution_count": 4,
     "metadata": {},
     "output_type": "execute_result"
    }
   ],
   "source": [
    "print(df.columns)\n",
    "df.sample(5)"
   ]
  },
  {
   "cell_type": "code",
   "execution_count": 28,
   "metadata": {},
   "outputs": [],
   "source": [
    "df = df[(df.INGLABO >= 5000)] \n",
    "df = df.dropna(subset=['INGLABO'])"
   ]
  },
  {
   "cell_type": "code",
   "execution_count": 29,
   "metadata": {},
   "outputs": [
    {
     "data": {
      "text/plain": [
       "count      348329.00\n",
       "mean      1496001.39\n",
       "std       2173975.58\n",
       "min          5000.00\n",
       "25%        600000.00\n",
       "50%       1160000.00\n",
       "75%       1500000.00\n",
       "max     124000000.00\n",
       "Name: INGLABO, dtype: float64"
      ]
     },
     "execution_count": 29,
     "metadata": {},
     "output_type": "execute_result"
    }
   ],
   "source": [
    "pd.options.display.float_format = '{:.2f}'.format\n",
    "df.INGLABO.describe()"
   ]
  },
  {
   "cell_type": "code",
   "execution_count": 30,
   "metadata": {},
   "outputs": [
    {
     "data": {
      "text/plain": [
       "count   348329.00\n",
       "mean        41.15\n",
       "std         13.90\n",
       "min         15.00\n",
       "25%         30.00\n",
       "50%         40.00\n",
       "75%         52.00\n",
       "max         98.00\n",
       "Name: EDAD, dtype: float64"
      ]
     },
     "execution_count": 30,
     "metadata": {},
     "output_type": "execute_result"
    }
   ],
   "source": [
    "df.EDAD.describe()"
   ]
  },
  {
   "cell_type": "markdown",
   "metadata": {},
   "source": [
    "## Medidas de centralidad"
   ]
  },
  {
   "cell_type": "markdown",
   "metadata": {},
   "source": [
    "### La media \n",
    "\n",
    "La media de un conjunto de observaciones es simplemente un promedio normal y antiguo: se suman todos los valores y luego se divide por el número total de valores.\n",
    "\n",
    "$$\\bar{x} = \\frac{1}{n}  \\ \\sum_{i=1}^{n} x_{i}$$"
   ]
  },
  {
   "cell_type": "code",
   "execution_count": 36,
   "metadata": {},
   "outputs": [
    {
     "data": {
      "text/plain": [
       "1496001.3938316936"
      ]
     },
     "execution_count": 36,
     "metadata": {},
     "output_type": "execute_result"
    }
   ],
   "source": [
    "n = len(df.INGLABO)\n",
    "Sigma = sum(df.INGLABO)\n",
    "1/n * Sigma # 1'496.001"
   ]
  },
  {
   "cell_type": "code",
   "execution_count": 37,
   "metadata": {},
   "outputs": [
    {
     "data": {
      "text/plain": [
       "1496001.3938316936"
      ]
     },
     "execution_count": 37,
     "metadata": {},
     "output_type": "execute_result"
    }
   ],
   "source": [
    "df.INGLABO.mean() # mean funciona por numpy y pandas"
   ]
  },
  {
   "cell_type": "code",
   "execution_count": 38,
   "metadata": {},
   "outputs": [
    {
     "data": {
      "text/plain": [
       "1496001.3938316936"
      ]
     },
     "execution_count": 38,
     "metadata": {},
     "output_type": "execute_result"
    }
   ],
   "source": [
    "import statistics\n",
    "statistics.mean(df.INGLABO)"
   ]
  },
  {
   "cell_type": "markdown",
   "metadata": {},
   "source": [
    "### La mediana"
   ]
  },
  {
   "cell_type": "code",
   "execution_count": 80,
   "metadata": {},
   "outputs": [
    {
     "data": {
      "text/plain": [
       "321938        5000.00\n",
       "203173        5000.00\n",
       "349761        5000.00\n",
       "62677         5000.00\n",
       "182917        5000.00\n",
       "             ...     \n",
       "103755   100000000.00\n",
       "135500   100000000.00\n",
       "318842   100000000.00\n",
       "225057   100000000.00\n",
       "91644    124000000.00\n",
       "Name: INGLABO, Length: 348329, dtype: float64"
      ]
     },
     "execution_count": 80,
     "metadata": {},
     "output_type": "execute_result"
    }
   ],
   "source": [
    "# Ordenamos los valores\n",
    "sorted_inglabo = df.INGLABO.sort_values(ascending= True)\n",
    "sorted_inglabo"
   ]
  },
  {
   "cell_type": "code",
   "execution_count": 94,
   "metadata": {},
   "outputs": [
    {
     "name": "stdout",
     "output_type": "stream",
     "text": [
      "1160000.0\n"
     ]
    }
   ],
   "source": [
    "# Calculamos la mediana\n",
    "\n",
    "if n % 2 == 1:  # Si el número de elementos es impar\n",
    "    mediana = sorted_inglabo.iloc[n // 2]  # Tomamos el valor central\n",
    "else:  # Si el número de elementos es par\n",
    "    mediana = (sorted_inglabo.iloc[n // 2 - 1] + sorted_inglabo.iloc[n // 2]) / 2  # Promedio de los dos valores centrales\n",
    "\n",
    "print(mediana)\n"
   ]
  },
  {
   "cell_type": "code",
   "execution_count": 106,
   "metadata": {},
   "outputs": [],
   "source": [
    "# Creamos la formula\n",
    "\n",
    "def fmediana(x):\n",
    "    import pandas as pd\n",
    "    x = pd.Series(x)\n",
    "    n = len(x)\n",
    "    x = x.sort_values(ascending= True)\n",
    "    if n % 2 == 1:\n",
    "        return x.iloc[n // 2] \n",
    "    else: \n",
    "        return (x.iloc[n // 2 - 1] + x.iloc[n // 2]) / 2"
   ]
  },
  {
   "cell_type": "code",
   "execution_count": 107,
   "metadata": {},
   "outputs": [
    {
     "data": {
      "text/plain": [
       "1160000.0"
      ]
     },
     "execution_count": 107,
     "metadata": {},
     "output_type": "execute_result"
    }
   ],
   "source": [
    "fmediana(df.INGLABO)"
   ]
  },
  {
   "cell_type": "code",
   "execution_count": 108,
   "metadata": {},
   "outputs": [
    {
     "data": {
      "text/plain": [
       "1160000.0"
      ]
     },
     "execution_count": 108,
     "metadata": {},
     "output_type": "execute_result"
    }
   ],
   "source": [
    "df.INGLABO.median()"
   ]
  },
  {
   "cell_type": "code",
   "execution_count": 109,
   "metadata": {},
   "outputs": [
    {
     "data": {
      "text/plain": [
       "3.0"
      ]
     },
     "execution_count": 109,
     "metadata": {},
     "output_type": "execute_result"
    }
   ],
   "source": [
    "fmediana(df.EDUC)"
   ]
  },
  {
   "cell_type": "code",
   "execution_count": 110,
   "metadata": {},
   "outputs": [
    {
     "data": {
      "text/plain": [
       "3.0"
      ]
     },
     "execution_count": 110,
     "metadata": {},
     "output_type": "execute_result"
    }
   ],
   "source": [
    "df.EDUC.median()"
   ]
  },
  {
   "cell_type": "markdown",
   "metadata": {},
   "source": [
    "### Media o mediana"
   ]
  },
  {
   "cell_type": "code",
   "execution_count": 118,
   "metadata": {},
   "outputs": [
    {
     "data": {
      "image/png": "[encoded data removed]",
      "text/plain": [
       "<Figure size 640x480 with 1 Axes>"
      ]
     },
     "metadata": {},
     "output_type": "display_data"
    }
   ],
   "source": [
    "media = df.INGLABO.mean()\n",
    "mediana = df.INGLABO.median()\n",
    "\n",
    "sns.histplot(df.INGLABO, bins='sturges', color = 'purple')\n",
    "plt.axvline(media, color = 'red', linestyle = '--', label = 'Media')\n",
    "plt.axvline(mediana, color = 'blue', linestyle = '--', label = 'mediana')\n",
    "\n",
    "plt.legend()\n",
    "\n",
    "sns.despine();"
   ]
  },
  {
   "cell_type": "code",
   "execution_count": 115,
   "metadata": {},
   "outputs": [],
   "source": [
    "def comparacion_centralidad(x, bins = 'sturges', color_bars = 'purple', color_media = 'red',color_mediana = 'blue'):\n",
    "    x = pd.Series(x)\n",
    "    \n",
    "    media = x.mean()\n",
    "    mediana = x.median()\n",
    "    \n",
    "    sns.histplot(x, bins = bins, color = color_bars)\n",
    "    plt.axvline(media, color = color_media, linestyle = '--', label = 'Media')\n",
    "    plt.axvline(mediana, color = color_mediana, linestyle = '--', label = 'Mediana')\n",
    "    plt.legend()\n",
    "    plt.plot()"
   ]
  },
  {
   "cell_type": "code",
   "execution_count": 136,
   "metadata": {},
   "outputs": [
    {
     "data": {
      "image/png": "[encoded data removed]",
      "text/plain": [
       "<Figure size 640x480 with 1 Axes>"
      ]
     },
     "metadata": {},
     "output_type": "display_data"
    }
   ],
   "source": [
    "comparacion_centralidad(df.INGLABO, color_bars= 'gray', bins= 40)\n",
    "sns.despine()\n",
    "plt.xlim(0,20000000);"
   ]
  },
  {
   "cell_type": "code",
   "execution_count": 137,
   "metadata": {},
   "outputs": [
    {
     "data": {
      "image/png": "[encoded data removed]",
      "text/plain": [
       "<Figure size 640x480 with 1 Axes>"
      ]
     },
     "metadata": {},
     "output_type": "display_data"
    }
   ],
   "source": [
    "comparacion_centralidad(df.EDUC, color_bars= 'gray')\n",
    "sns.despine;"
   ]
  },
  {
   "cell_type": "markdown",
   "metadata": {},
   "source": [
    "### Media truncada o recordada (Trimmed mean)\n",
    "\n",
    "Cuando nos enfrentamos a una situación en la que algunas de las observaciones con valores más extremos podrían no ser del todo fiables, la media no es necesariamente una buena medida de la tendencia central. Es muy sensible a uno o dos valores extremos y, por tanto, no se considera una medida robusta . Un remedio que hemos visto es utilizar la mediana. Una solución más general es utilizar una \"media recortada\". Para calcular una media recortada, lo que se hace es \"descartar\" los ejemplos más extremos de ambos extremos (es decir, el mayor y el menor) y, a continuación, tomar la media de todo lo demás."
   ]
  },
  {
   "cell_type": "code",
   "execution_count": 138,
   "metadata": {},
   "outputs": [
    {
     "data": {
      "text/plain": [
       "1496001.3938316936"
      ]
     },
     "execution_count": 138,
     "metadata": {},
     "output_type": "execute_result"
    }
   ],
   "source": [
    "import statistics\n",
    "\n",
    "statistics.median(dataset)"
   ]
  },
  {
   "cell_type": "code",
   "execution_count": 143,
   "metadata": {},
   "outputs": [
    {
     "name": "stdout",
     "output_type": "stream",
     "text": [
      "Media: 1496001.3938316936\n",
      "Mediana: 1160000.0\n",
      "Media truncada: 1161590.1155939929\n"
     ]
    }
   ],
   "source": [
    "from scipy import stats\n",
    "\n",
    "print(f'Media: {statistics.mean(df.INGLABO)}')\n",
    "print(f'Mediana: {statistics.median(df.INGLABO)}')\n",
    "print(f'Media truncada: {stats.trim_mean(df.INGLABO, 0.1)}')\n"
   ]
  },
  {
   "cell_type": "markdown",
   "metadata": {},
   "source": [
    "### Moda\n",
    "Valor que ocurre con mayor frecuencia.\n",
    "\n",
    "Si bien es cierto que la moda se calcula con mayor frecuencia cuando se tienen datos de escala nominal (porque las medias y las medianas son inútiles para ese tipo de variables), hay algunas situaciones en las que realmente se desea conocer la moda de una variable de escala ordinal, de intervalo o de razón."
   ]
  },
  {
   "cell_type": "code",
   "execution_count": 145,
   "metadata": {},
   "outputs": [
    {
     "data": {
      "text/plain": [
       "EST_CIVIL\n",
       "Pareja >= 2    112373\n",
       "Soltero         92932\n",
       "Casado          68003\n",
       "Separado        57654\n",
       "Pareja < 2       9628\n",
       "Viudo            7739\n",
       "Name: count, dtype: int64"
      ]
     },
     "execution_count": 145,
     "metadata": {},
     "output_type": "execute_result"
    }
   ],
   "source": [
    "df.EST_CIVIL.value_counts()"
   ]
  },
  {
   "cell_type": "code",
   "execution_count": 146,
   "metadata": {},
   "outputs": [
    {
     "data": {
      "text/plain": [
       "'Pareja >= 2'"
      ]
     },
     "execution_count": 146,
     "metadata": {},
     "output_type": "execute_result"
    }
   ],
   "source": [
    "statistics.mode(df.EST_CIVIL)"
   ]
  },
  {
   "cell_type": "markdown",
   "metadata": {},
   "source": [
    "## Medidas de variabilidad\n",
    "\n",
    " La segunda cosa que realmente queremos es una medida de la variabilidad de los datos. Es decir, ¿qué tan \"dispersos\" están los datos? ¿Qué tan \"lejos\" de la media o la mediana tienden a estar los valores observados? "
   ]
  },
  {
   "cell_type": "markdown",
   "metadata": {},
   "source": [
    "### Rango\n",
    "Es el valor más grande menos el valor más pequeño."
   ]
  },
  {
   "cell_type": "code",
   "execution_count": 150,
   "metadata": {},
   "outputs": [
    {
     "data": {
      "text/plain": [
       "(15, 98)"
      ]
     },
     "execution_count": 150,
     "metadata": {},
     "output_type": "execute_result"
    }
   ],
   "source": [
    "df.EDAD.min(), df.EDAD.max()"
   ]
  },
  {
   "cell_type": "markdown",
   "metadata": {},
   "source": [
    "### Rango intercuartil\n",
    "\n",
    "El rango intercuartil (RIC) es como el rango, pero en lugar de calcular la diferencia entre el valor más grande y el más pequeño, calcula la diferencia entre el cuartil 25 y el cuartil 75.\n",
    "\n",
    "El rango intercuartil es el rango abarcado por la “mitad media” de los datos. "
   ]
  },
  {
   "cell_type": "code",
   "execution_count": 153,
   "metadata": {},
   "outputs": [
    {
     "data": {
      "text/plain": [
       "22.0"
      ]
     },
     "execution_count": 153,
     "metadata": {},
     "output_type": "execute_result"
    }
   ],
   "source": [
    "np.quantile(df.EDAD, [.25,.75])\n",
    "\n",
    "np.quantile(df.EDAD, .75) - np.quantile(df.EDAD, .25)"
   ]
  },
  {
   "cell_type": "code",
   "execution_count": 154,
   "metadata": {},
   "outputs": [
    {
     "data": {
      "text/plain": [
       "22.0"
      ]
     },
     "execution_count": 154,
     "metadata": {},
     "output_type": "execute_result"
    }
   ],
   "source": [
    "stats.iqr(df.EDAD)"
   ]
  },
  {
   "cell_type": "markdown",
   "metadata": {},
   "source": [
    "### Desviación absoluta media \n",
    "\n",
    "Mean absolute deviation (MAD)\n",
    "\n",
    "Las dos medidas que hemos analizado hasta ahora, el rango y el rango intercuartil, se basan en la idea de que podemos medir la dispersión de los datos observando los cuantiles de los mismos. Sin embargo, esta no es la única forma de pensar en el problema. Un enfoque diferente es seleccionar un punto de referencia significativo (normalmente la media o la mediana) y luego informar las desviaciones \"típicas\" con respecto a ese punto de referencia. \n",
    "\n",
    "$$ MAD(X) = \\frac{1}{N} \\sum_{i=1}^{N} |X_{i} - \\bar{X}|$$"
   ]
  },
  {
   "cell_type": "code",
   "execution_count": 169,
   "metadata": {},
   "outputs": [
    {
     "data": {
      "text/plain": [
       "460000.0"
      ]
     },
     "execution_count": 169,
     "metadata": {},
     "output_type": "execute_result"
    }
   ],
   "source": [
    "stats.median_abs_deviation(df.INGLABO) # Este lo calcula con respecto a la mediana"
   ]
  },
  {
   "cell_type": "code",
   "execution_count": 166,
   "metadata": {},
   "outputs": [],
   "source": [
    "def mad(x):\n",
    "    x = pd.Series(x)\n",
    "    x_bar = np.mean(x)  # Calcular la media\n",
    "    AD = np.abs(x - x_bar)  # Calcular desviaciones absolutas\n",
    "    ADD = np.mean(AD)  # Calcular la media de las desviaciones absolutas\n",
    "    return ADD"
   ]
  },
  {
   "cell_type": "code",
   "execution_count": 167,
   "metadata": {},
   "outputs": [
    {
     "data": {
      "text/plain": [
       "965671.7187074285"
      ]
     },
     "execution_count": 167,
     "metadata": {},
     "output_type": "execute_result"
    }
   ],
   "source": [
    "mad(df.INGLABO)"
   ]
  },
  {
   "cell_type": "markdown",
   "metadata": {},
   "source": [
    "### Varianza\n",
    "\n",
    "$$Var(x) = \\frac{1}{N} \\sum_{i=1}^{N} (x_{i} - \\bar{x})^2$$"
   ]
  },
  {
   "cell_type": "code",
   "execution_count": 172,
   "metadata": {},
   "outputs": [
    {
     "data": {
      "text/plain": [
       "4726169823693.522"
      ]
     },
     "execution_count": 172,
     "metadata": {},
     "output_type": "execute_result"
    }
   ],
   "source": [
    "df.INGLABO.var() # este usa la corrección de Bessel para obtener estimador"
   ]
  },
  {
   "cell_type": "code",
   "execution_count": 174,
   "metadata": {},
   "outputs": [
    {
     "data": {
      "text/plain": [
       "(4726169823693.523, 4726156255573.087)"
      ]
     },
     "execution_count": 174,
     "metadata": {},
     "output_type": "execute_result"
    }
   ],
   "source": [
    "statistics.variance(df.INGLABO), statistics.pvariance(df.INGLABO)"
   ]
  },
  {
   "cell_type": "markdown",
   "metadata": {},
   "source": [
    "### Desviación estándar\n",
    "\n",
    "$$ \\sigma = \\sqrt{\\frac{1}{N} \\sum_{i=1}^{N} (x_{i} - \\bar{x})^2}$$"
   ]
  },
  {
   "cell_type": "code",
   "execution_count": 175,
   "metadata": {},
   "outputs": [
    {
     "data": {
      "text/plain": [
       "2173975.5802891445"
      ]
     },
     "execution_count": 175,
     "metadata": {},
     "output_type": "execute_result"
    }
   ],
   "source": [
    "df.INGLABO.std()"
   ]
  },
  {
   "cell_type": "code",
   "execution_count": 177,
   "metadata": {},
   "outputs": [
    {
     "data": {
      "text/plain": [
       "(2173975.580289145, 2173972.459708974)"
      ]
     },
     "execution_count": 177,
     "metadata": {},
     "output_type": "execute_result"
    }
   ],
   "source": [
    "statistics.stdev(df.INGLABO), statistics.pstdev(df.INGLABO)"
   ]
  },
  {
   "cell_type": "markdown",
   "metadata": {},
   "source": [
    "### Regla empírica \n",
    "\n",
    "La Regla Empírica, también conocida como la Regla del 68-95-99.7, se aplica a distribuciones normales (campana de Gauss) y establece lo siguiente:\n",
    "- Aproximadamente el 68% de los datos se encuentran dentro de una desviación estándar de la media\n",
    "- Aproximadamente el 95% de los datos se encuentran dentro de dos desviaciones estándar de la media\n",
    "- Aproximadamente el 99.7% de los datos se encuentran dentro de tres desviaciones estándar de la media\n",
    "\n",
    "### Teorema de Chebyshev\n",
    "\n",
    "El Teorema de Chebyshev es un resultado más general que se aplica a cualquier distribución, independientemente de su forma. Establece que, para cualquier número real $k>1$ al menos $\\frac{1}{k^2}$ de los datos se encuentran dentro de $k$ desviaciones estándar de la media\n",
    "\n",
    "$$P(|X-\\mu| < k \\sigma) \\geq 1 - \\frac{1}{k^2}$$"
   ]
  },
  {
   "cell_type": "code",
   "execution_count": 185,
   "metadata": {},
   "outputs": [
    {
     "data": {
      "image/png": "[encoded data removed]",
      "text/plain": [
       "<Figure size 640x480 with 1 Axes>"
      ]
     },
     "metadata": {},
     "output_type": "display_data"
    }
   ],
   "source": [
    "sns.histplot(df.EDAD, bins= 'sturges', color = 'white')\n",
    "plt.axvline(df.EDAD.mean(), color = 'red', label = 'Media')\n",
    "plt.axvline(df.EDAD.mean() + 2*df.EDAD.std(), color = 'purple', label = '+2 std')\n",
    "plt.axvline(df.EDAD.mean() - 2*df.EDAD.std(), color = 'purple', label = '-2 std')\n",
    "sns.despine()\n",
    "plt.legend();\n"
   ]
  },
  {
   "cell_type": "code",
   "execution_count": null,
   "metadata": {},
   "outputs": [],
   "source": []
  },
  {
   "cell_type": "code",
   "execution_count": null,
   "metadata": {},
   "outputs": [],
   "source": []
  }
 ],
 "metadata": {
  "kernelspec": {
   "display_name": "Python 3",
   "language": "python",
   "name": "python3"
  },
  "language_info": {
   "codemirror_mode": {
    "name": "ipython",
    "version": 3
   },
   "file_extension": ".py",
   "mimetype": "text/x-python",
   "name": "python",
   "nbconvert_exporter": "python",
   "pygments_lexer": "ipython3",
   "version": "3.12.5"
  }
 },
 "nbformat": 4,
 "nbformat_minor": 2
}
