{
 "cells": [
  {
   "cell_type": "code",
   "execution_count": 1,
   "metadata": {},
   "outputs": [],
   "source": [
    "# Importación de librerías de trabajo\n",
    "\n",
    "import os # Administrar directorio de trabajo\n",
    "import numpy as np # Trabaja con arreglos\n",
    "import pandas as pd # Trabajar con DF\n",
    "import matplotlib.pyplot as plt # Gráficos\n",
    "import seaborn as sns # Gráficos    "
   ]
  },
  {
   "cell_type": "code",
   "execution_count": 24,
   "metadata": {},
   "outputs": [
    {
     "data": {
      "text/plain": [
       "['.git', 'Data sets', 'Project GEIH 23', 'README.md']"
      ]
     },
     "execution_count": 24,
     "metadata": {},
     "output_type": "execute_result"
    }
   ],
   "source": [
    "os.chdir('C:/Users/Julian/Desktop/Cursos/Cursos Github/Metodos_estadisticos')\n",
    "os.getcwd()\n",
    "os.listdir()"
   ]
  },
  {
   "cell_type": "code",
   "execution_count": 4,
   "metadata": {},
   "outputs": [],
   "source": [
    "df = pd.read_csv('Data sets/gen_23.csv')"
   ]
  },
  {
   "cell_type": "code",
   "execution_count": 5,
   "metadata": {},
   "outputs": [
    {
     "data": {
      "text/plain": [
       "(860802, 18)"
      ]
     },
     "execution_count": 5,
     "metadata": {},
     "output_type": "execute_result"
    }
   ],
   "source": [
    "df.shape"
   ]
  },
  {
   "cell_type": "code",
   "execution_count": 27,
   "metadata": {},
   "outputs": [
    {
     "data": {
      "text/plain": [
       "Index(['PRIMARY_KEY', 'MES', 'CLASE', 'FEX_C18', 'DPTO', 'SEXO', 'EDAD',\n",
       "       'CAMPESINO', 'CULTURA', 'EST_CIVIL', 'LEE', 'NIVEL_EDUC', 'EDUC',\n",
       "       'ATRACCIÓN'],\n",
       "      dtype='object')"
      ]
     },
     "execution_count": 27,
     "metadata": {},
     "output_type": "execute_result"
    }
   ],
   "source": [
    "df.columns"
   ]
  },
  {
   "cell_type": "code",
   "execution_count": 7,
   "metadata": {},
   "outputs": [
    {
     "data": {
      "text/html": [
       "<div>\n",
       "<style scoped>\n",
       "    .dataframe tbody tr th:only-of-type {\n",
       "        vertical-align: middle;\n",
       "    }\n",
       "\n",
       "    .dataframe tbody tr th {\n",
       "        vertical-align: top;\n",
       "    }\n",
       "\n",
       "    .dataframe thead th {\n",
       "        text-align: right;\n",
       "    }\n",
       "</style>\n",
       "<table border=\"1\" class=\"dataframe\">\n",
       "  <thead>\n",
       "    <tr style=\"text-align: right;\">\n",
       "      <th></th>\n",
       "      <th>Unnamed: 0</th>\n",
       "      <th>DIRECTORIO</th>\n",
       "      <th>SECUENCIA_P</th>\n",
       "      <th>ORDEN</th>\n",
       "      <th>HOGAR</th>\n",
       "      <th>MES</th>\n",
       "      <th>CLASE</th>\n",
       "      <th>FEX_C18</th>\n",
       "      <th>DPTO</th>\n",
       "      <th>P3271</th>\n",
       "      <th>P6040</th>\n",
       "      <th>P2057</th>\n",
       "      <th>P6080</th>\n",
       "      <th>P6070</th>\n",
       "      <th>P6160</th>\n",
       "      <th>P3042</th>\n",
       "      <th>P3042S1</th>\n",
       "      <th>P3038</th>\n",
       "    </tr>\n",
       "  </thead>\n",
       "  <tbody>\n",
       "    <tr>\n",
       "      <th>343360</th>\n",
       "      <td>343361</td>\n",
       "      <td>7360413</td>\n",
       "      <td>1</td>\n",
       "      <td>2</td>\n",
       "      <td>1</td>\n",
       "      <td>2</td>\n",
       "      <td>2</td>\n",
       "      <td>1426.758784</td>\n",
       "      <td>20</td>\n",
       "      <td>1</td>\n",
       "      <td>30</td>\n",
       "      <td>1</td>\n",
       "      <td>5</td>\n",
       "      <td>3.0</td>\n",
       "      <td>1.0</td>\n",
       "      <td>4.0</td>\n",
       "      <td>4.0</td>\n",
       "      <td>2.0</td>\n",
       "    </tr>\n",
       "    <tr>\n",
       "      <th>65448</th>\n",
       "      <td>65449</td>\n",
       "      <td>7422209</td>\n",
       "      <td>1</td>\n",
       "      <td>2</td>\n",
       "      <td>1</td>\n",
       "      <td>4</td>\n",
       "      <td>1</td>\n",
       "      <td>307.504734</td>\n",
       "      <td>41</td>\n",
       "      <td>2</td>\n",
       "      <td>41</td>\n",
       "      <td>2</td>\n",
       "      <td>6</td>\n",
       "      <td>3.0</td>\n",
       "      <td>1.0</td>\n",
       "      <td>10.0</td>\n",
       "      <td>10.0</td>\n",
       "      <td>1.0</td>\n",
       "    </tr>\n",
       "    <tr>\n",
       "      <th>545518</th>\n",
       "      <td>545519</td>\n",
       "      <td>7383023</td>\n",
       "      <td>1</td>\n",
       "      <td>2</td>\n",
       "      <td>1</td>\n",
       "      <td>3</td>\n",
       "      <td>1</td>\n",
       "      <td>329.613628</td>\n",
       "      <td>85</td>\n",
       "      <td>2</td>\n",
       "      <td>25</td>\n",
       "      <td>2</td>\n",
       "      <td>6</td>\n",
       "      <td>2.0</td>\n",
       "      <td>1.0</td>\n",
       "      <td>9.0</td>\n",
       "      <td>5.0</td>\n",
       "      <td>1.0</td>\n",
       "    </tr>\n",
       "    <tr>\n",
       "      <th>825059</th>\n",
       "      <td>825060</td>\n",
       "      <td>7553216</td>\n",
       "      <td>1</td>\n",
       "      <td>1</td>\n",
       "      <td>1</td>\n",
       "      <td>9</td>\n",
       "      <td>2</td>\n",
       "      <td>1203.811540</td>\n",
       "      <td>27</td>\n",
       "      <td>1</td>\n",
       "      <td>34</td>\n",
       "      <td>1</td>\n",
       "      <td>6</td>\n",
       "      <td>2.0</td>\n",
       "      <td>1.0</td>\n",
       "      <td>3.0</td>\n",
       "      <td>5.0</td>\n",
       "      <td>2.0</td>\n",
       "    </tr>\n",
       "    <tr>\n",
       "      <th>451732</th>\n",
       "      <td>451733</td>\n",
       "      <td>7460563</td>\n",
       "      <td>1</td>\n",
       "      <td>1</td>\n",
       "      <td>1</td>\n",
       "      <td>6</td>\n",
       "      <td>1</td>\n",
       "      <td>127.289305</td>\n",
       "      <td>18</td>\n",
       "      <td>1</td>\n",
       "      <td>43</td>\n",
       "      <td>2</td>\n",
       "      <td>6</td>\n",
       "      <td>2.0</td>\n",
       "      <td>1.0</td>\n",
       "      <td>8.0</td>\n",
       "      <td>4.0</td>\n",
       "      <td>2.0</td>\n",
       "    </tr>\n",
       "  </tbody>\n",
       "</table>\n",
       "</div>"
      ],
      "text/plain": [
       "        Unnamed: 0  DIRECTORIO  SECUENCIA_P  ORDEN  HOGAR  MES  CLASE  \\\n",
       "343360      343361     7360413            1      2      1    2      2   \n",
       "65448        65449     7422209            1      2      1    4      1   \n",
       "545518      545519     7383023            1      2      1    3      1   \n",
       "825059      825060     7553216            1      1      1    9      2   \n",
       "451732      451733     7460563            1      1      1    6      1   \n",
       "\n",
       "            FEX_C18  DPTO  P3271  P6040  P2057  P6080  P6070  P6160  P3042  \\\n",
       "343360  1426.758784    20      1     30      1      5    3.0    1.0    4.0   \n",
       "65448    307.504734    41      2     41      2      6    3.0    1.0   10.0   \n",
       "545518   329.613628    85      2     25      2      6    2.0    1.0    9.0   \n",
       "825059  1203.811540    27      1     34      1      6    2.0    1.0    3.0   \n",
       "451732   127.289305    18      1     43      2      6    2.0    1.0    8.0   \n",
       "\n",
       "        P3042S1  P3038  \n",
       "343360      4.0    2.0  \n",
       "65448      10.0    1.0  \n",
       "545518      5.0    1.0  \n",
       "825059      5.0    2.0  \n",
       "451732      4.0    2.0  "
      ]
     },
     "execution_count": 7,
     "metadata": {},
     "output_type": "execute_result"
    }
   ],
   "source": [
    "df.sample(5)"
   ]
  },
  {
   "cell_type": "code",
   "execution_count": 8,
   "metadata": {},
   "outputs": [
    {
     "name": "stdout",
     "output_type": "stream",
     "text": [
      "<class 'pandas.core.frame.DataFrame'>\n",
      "RangeIndex: 860802 entries, 0 to 860801\n",
      "Data columns (total 18 columns):\n",
      " #   Column       Non-Null Count   Dtype  \n",
      "---  ------       --------------   -----  \n",
      " 0   Unnamed: 0   860802 non-null  int64  \n",
      " 1   DIRECTORIO   860802 non-null  int64  \n",
      " 2   SECUENCIA_P  860802 non-null  int64  \n",
      " 3   ORDEN        860802 non-null  int64  \n",
      " 4   HOGAR        860802 non-null  int64  \n",
      " 5   MES          860802 non-null  int64  \n",
      " 6   CLASE        860802 non-null  int64  \n",
      " 7   FEX_C18      860802 non-null  float64\n",
      " 8   DPTO         860802 non-null  int64  \n",
      " 9   P3271        860802 non-null  int64  \n",
      " 10  P6040        860802 non-null  int64  \n",
      " 11  P2057        860802 non-null  int64  \n",
      " 12  P6080        860802 non-null  int64  \n",
      " 13  P6070        743034 non-null  float64\n",
      " 14  P6160        831109 non-null  float64\n",
      " 15  P3042        831109 non-null  float64\n",
      " 16  P3042S1      831109 non-null  float64\n",
      " 17  P3038        631485 non-null  float64\n",
      "dtypes: float64(6), int64(12)\n",
      "memory usage: 118.2 MB\n"
     ]
    }
   ],
   "source": [
    "df.info()"
   ]
  },
  {
   "cell_type": "markdown",
   "metadata": {},
   "source": [
    "# Data cleaning \n",
    "\n",
    "1. Columnas irrelevantes\n",
    "1. Datos faltantes\n",
    "1. Presentación de los datos (categorizar, codificar)\n",
    "1. Errores tipográficos\n",
    "1. Outliers y extremes liers"
   ]
  },
  {
   "cell_type": "code",
   "execution_count": 9,
   "metadata": {},
   "outputs": [],
   "source": [
    "df.drop('Unnamed: 0',axis=1,inplace=True)"
   ]
  },
  {
   "cell_type": "code",
   "execution_count": 10,
   "metadata": {},
   "outputs": [],
   "source": [
    "# Creemos primary key\n",
    "\n",
    "df['PRIMARY_KEY'] = df.DIRECTORIO.astype(str) + '-' + df.SECUENCIA_P.astype(str) + '-' + df.ORDEN.astype(str) + '-' + df.HOGAR.astype(str)"
   ]
  },
  {
   "cell_type": "code",
   "execution_count": 11,
   "metadata": {},
   "outputs": [
    {
     "data": {
      "text/html": [
       "<div>\n",
       "<style scoped>\n",
       "    .dataframe tbody tr th:only-of-type {\n",
       "        vertical-align: middle;\n",
       "    }\n",
       "\n",
       "    .dataframe tbody tr th {\n",
       "        vertical-align: top;\n",
       "    }\n",
       "\n",
       "    .dataframe thead th {\n",
       "        text-align: right;\n",
       "    }\n",
       "</style>\n",
       "<table border=\"1\" class=\"dataframe\">\n",
       "  <thead>\n",
       "    <tr style=\"text-align: right;\">\n",
       "      <th></th>\n",
       "      <th>DIRECTORIO</th>\n",
       "      <th>SECUENCIA_P</th>\n",
       "      <th>ORDEN</th>\n",
       "      <th>HOGAR</th>\n",
       "      <th>MES</th>\n",
       "      <th>CLASE</th>\n",
       "      <th>FEX_C18</th>\n",
       "      <th>DPTO</th>\n",
       "      <th>P3271</th>\n",
       "      <th>P6040</th>\n",
       "      <th>P2057</th>\n",
       "      <th>P6080</th>\n",
       "      <th>P6070</th>\n",
       "      <th>P6160</th>\n",
       "      <th>P3042</th>\n",
       "      <th>P3042S1</th>\n",
       "      <th>P3038</th>\n",
       "      <th>PRIMARY_KEY</th>\n",
       "    </tr>\n",
       "  </thead>\n",
       "  <tbody>\n",
       "    <tr>\n",
       "      <th>201846</th>\n",
       "      <td>7650965</td>\n",
       "      <td>1</td>\n",
       "      <td>1</td>\n",
       "      <td>1</td>\n",
       "      <td>12</td>\n",
       "      <td>1</td>\n",
       "      <td>1019.507714</td>\n",
       "      <td>17</td>\n",
       "      <td>1</td>\n",
       "      <td>73</td>\n",
       "      <td>2</td>\n",
       "      <td>6</td>\n",
       "      <td>3.0</td>\n",
       "      <td>1.0</td>\n",
       "      <td>10.0</td>\n",
       "      <td>10.0</td>\n",
       "      <td>2.0</td>\n",
       "      <td>7650965-1-1-1</td>\n",
       "    </tr>\n",
       "  </tbody>\n",
       "</table>\n",
       "</div>"
      ],
      "text/plain": [
       "        DIRECTORIO  SECUENCIA_P  ORDEN  HOGAR  MES  CLASE      FEX_C18  DPTO  \\\n",
       "201846     7650965            1      1      1   12      1  1019.507714    17   \n",
       "\n",
       "        P3271  P6040  P2057  P6080  P6070  P6160  P3042  P3042S1  P3038  \\\n",
       "201846      1     73      2      6    3.0    1.0   10.0     10.0    2.0   \n",
       "\n",
       "          PRIMARY_KEY  \n",
       "201846  7650965-1-1-1  "
      ]
     },
     "execution_count": 11,
     "metadata": {},
     "output_type": "execute_result"
    }
   ],
   "source": [
    "df.sample()"
   ]
  },
  {
   "cell_type": "code",
   "execution_count": 12,
   "metadata": {},
   "outputs": [],
   "source": [
    "df = df[['PRIMARY_KEY','MES', 'CLASE','FEX_C18', 'DPTO', 'P3271', 'P6040', 'P2057', 'P6080', 'P6070', 'P6160','P3042', 'P3042S1', 'P3038',]]"
   ]
  },
  {
   "cell_type": "code",
   "execution_count": 13,
   "metadata": {},
   "outputs": [
    {
     "data": {
      "text/html": [
       "<div>\n",
       "<style scoped>\n",
       "    .dataframe tbody tr th:only-of-type {\n",
       "        vertical-align: middle;\n",
       "    }\n",
       "\n",
       "    .dataframe tbody tr th {\n",
       "        vertical-align: top;\n",
       "    }\n",
       "\n",
       "    .dataframe thead th {\n",
       "        text-align: right;\n",
       "    }\n",
       "</style>\n",
       "<table border=\"1\" class=\"dataframe\">\n",
       "  <thead>\n",
       "    <tr style=\"text-align: right;\">\n",
       "      <th></th>\n",
       "      <th>PRIMARY_KEY</th>\n",
       "      <th>MES</th>\n",
       "      <th>CLASE</th>\n",
       "      <th>FEX_C18</th>\n",
       "      <th>DPTO</th>\n",
       "      <th>P3271</th>\n",
       "      <th>P6040</th>\n",
       "      <th>P2057</th>\n",
       "      <th>P6080</th>\n",
       "      <th>P6070</th>\n",
       "      <th>P6160</th>\n",
       "      <th>P3042</th>\n",
       "      <th>P3042S1</th>\n",
       "      <th>P3038</th>\n",
       "    </tr>\n",
       "  </thead>\n",
       "  <tbody>\n",
       "    <tr>\n",
       "      <th>618989</th>\n",
       "      <td>7441064-1-3-1</td>\n",
       "      <td>5</td>\n",
       "      <td>1</td>\n",
       "      <td>79.818129</td>\n",
       "      <td>18</td>\n",
       "      <td>2</td>\n",
       "      <td>22</td>\n",
       "      <td>2</td>\n",
       "      <td>6</td>\n",
       "      <td>6.0</td>\n",
       "      <td>1.0</td>\n",
       "      <td>10.0</td>\n",
       "      <td>9.0</td>\n",
       "      <td>1.0</td>\n",
       "    </tr>\n",
       "    <tr>\n",
       "      <th>560069</th>\n",
       "      <td>7388763-1-1-1</td>\n",
       "      <td>3</td>\n",
       "      <td>1</td>\n",
       "      <td>39.708992</td>\n",
       "      <td>27</td>\n",
       "      <td>1</td>\n",
       "      <td>20</td>\n",
       "      <td>1</td>\n",
       "      <td>5</td>\n",
       "      <td>6.0</td>\n",
       "      <td>1.0</td>\n",
       "      <td>10.0</td>\n",
       "      <td>4.0</td>\n",
       "      <td>2.0</td>\n",
       "    </tr>\n",
       "    <tr>\n",
       "      <th>375036</th>\n",
       "      <td>7487171-1-1-1</td>\n",
       "      <td>7</td>\n",
       "      <td>1</td>\n",
       "      <td>488.034375</td>\n",
       "      <td>85</td>\n",
       "      <td>1</td>\n",
       "      <td>59</td>\n",
       "      <td>1</td>\n",
       "      <td>6</td>\n",
       "      <td>4.0</td>\n",
       "      <td>1.0</td>\n",
       "      <td>12.0</td>\n",
       "      <td>4.0</td>\n",
       "      <td>2.0</td>\n",
       "    </tr>\n",
       "    <tr>\n",
       "      <th>638897</th>\n",
       "      <td>7448655-1-1-1</td>\n",
       "      <td>5</td>\n",
       "      <td>1</td>\n",
       "      <td>351.350948</td>\n",
       "      <td>73</td>\n",
       "      <td>1</td>\n",
       "      <td>52</td>\n",
       "      <td>2</td>\n",
       "      <td>6</td>\n",
       "      <td>2.0</td>\n",
       "      <td>1.0</td>\n",
       "      <td>3.0</td>\n",
       "      <td>5.0</td>\n",
       "      <td>2.0</td>\n",
       "    </tr>\n",
       "    <tr>\n",
       "      <th>505895</th>\n",
       "      <td>7367627-1-1-1</td>\n",
       "      <td>3</td>\n",
       "      <td>1</td>\n",
       "      <td>626.514375</td>\n",
       "      <td>13</td>\n",
       "      <td>1</td>\n",
       "      <td>58</td>\n",
       "      <td>2</td>\n",
       "      <td>6</td>\n",
       "      <td>3.0</td>\n",
       "      <td>1.0</td>\n",
       "      <td>5.0</td>\n",
       "      <td>2.0</td>\n",
       "      <td>2.0</td>\n",
       "    </tr>\n",
       "  </tbody>\n",
       "</table>\n",
       "</div>"
      ],
      "text/plain": [
       "          PRIMARY_KEY  MES  CLASE     FEX_C18  DPTO  P3271  P6040  P2057  \\\n",
       "618989  7441064-1-3-1    5      1   79.818129    18      2     22      2   \n",
       "560069  7388763-1-1-1    3      1   39.708992    27      1     20      1   \n",
       "375036  7487171-1-1-1    7      1  488.034375    85      1     59      1   \n",
       "638897  7448655-1-1-1    5      1  351.350948    73      1     52      2   \n",
       "505895  7367627-1-1-1    3      1  626.514375    13      1     58      2   \n",
       "\n",
       "        P6080  P6070  P6160  P3042  P3042S1  P3038  \n",
       "618989      6    6.0    1.0   10.0      9.0    1.0  \n",
       "560069      5    6.0    1.0   10.0      4.0    2.0  \n",
       "375036      6    4.0    1.0   12.0      4.0    2.0  \n",
       "638897      6    2.0    1.0    3.0      5.0    2.0  \n",
       "505895      6    3.0    1.0    5.0      2.0    2.0  "
      ]
     },
     "execution_count": 13,
     "metadata": {},
     "output_type": "execute_result"
    }
   ],
   "source": [
    "df.sample(5)"
   ]
  },
  {
   "cell_type": "code",
   "execution_count": 14,
   "metadata": {},
   "outputs": [],
   "source": [
    "df.columns  = ['PRIMARY_KEY', 'MES', 'CLASE','FEX_C18', 'DPTO','SEXO','EDAD','CAMPESINO','CULTURA','EST_CIVIL','LEE','NIVEL_EDUC','EDUC','ATRACCIÓN']"
   ]
  },
  {
   "cell_type": "code",
   "execution_count": 15,
   "metadata": {},
   "outputs": [
    {
     "data": {
      "text/html": [
       "<div>\n",
       "<style scoped>\n",
       "    .dataframe tbody tr th:only-of-type {\n",
       "        vertical-align: middle;\n",
       "    }\n",
       "\n",
       "    .dataframe tbody tr th {\n",
       "        vertical-align: top;\n",
       "    }\n",
       "\n",
       "    .dataframe thead th {\n",
       "        text-align: right;\n",
       "    }\n",
       "</style>\n",
       "<table border=\"1\" class=\"dataframe\">\n",
       "  <thead>\n",
       "    <tr style=\"text-align: right;\">\n",
       "      <th></th>\n",
       "      <th>PRIMARY_KEY</th>\n",
       "      <th>MES</th>\n",
       "      <th>CLASE</th>\n",
       "      <th>FEX_C18</th>\n",
       "      <th>DPTO</th>\n",
       "      <th>SEXO</th>\n",
       "      <th>EDAD</th>\n",
       "      <th>CAMPESINO</th>\n",
       "      <th>CULTURA</th>\n",
       "      <th>EST_CIVIL</th>\n",
       "      <th>LEE</th>\n",
       "      <th>NIVEL_EDUC</th>\n",
       "      <th>EDUC</th>\n",
       "      <th>ATRACCIÓN</th>\n",
       "    </tr>\n",
       "  </thead>\n",
       "  <tbody>\n",
       "    <tr>\n",
       "      <th>181716</th>\n",
       "      <td>7642840-1-4-1</td>\n",
       "      <td>12</td>\n",
       "      <td>1</td>\n",
       "      <td>378.534216</td>\n",
       "      <td>13</td>\n",
       "      <td>1</td>\n",
       "      <td>13</td>\n",
       "      <td>2</td>\n",
       "      <td>6</td>\n",
       "      <td>6.0</td>\n",
       "      <td>1.0</td>\n",
       "      <td>4.0</td>\n",
       "      <td>3.0</td>\n",
       "      <td>NaN</td>\n",
       "    </tr>\n",
       "    <tr>\n",
       "      <th>11443</th>\n",
       "      <td>7400726-1-3-1</td>\n",
       "      <td>4</td>\n",
       "      <td>1</td>\n",
       "      <td>194.485487</td>\n",
       "      <td>66</td>\n",
       "      <td>2</td>\n",
       "      <td>21</td>\n",
       "      <td>2</td>\n",
       "      <td>6</td>\n",
       "      <td>6.0</td>\n",
       "      <td>1.0</td>\n",
       "      <td>6.0</td>\n",
       "      <td>2.0</td>\n",
       "      <td>1.0</td>\n",
       "    </tr>\n",
       "    <tr>\n",
       "      <th>474097</th>\n",
       "      <td>7469343-1-1-1</td>\n",
       "      <td>6</td>\n",
       "      <td>1</td>\n",
       "      <td>183.628222</td>\n",
       "      <td>52</td>\n",
       "      <td>1</td>\n",
       "      <td>63</td>\n",
       "      <td>2</td>\n",
       "      <td>5</td>\n",
       "      <td>4.0</td>\n",
       "      <td>1.0</td>\n",
       "      <td>3.0</td>\n",
       "      <td>3.0</td>\n",
       "      <td>2.0</td>\n",
       "    </tr>\n",
       "    <tr>\n",
       "      <th>284267</th>\n",
       "      <td>7337151-1-1-1</td>\n",
       "      <td>1</td>\n",
       "      <td>1</td>\n",
       "      <td>106.150411</td>\n",
       "      <td>70</td>\n",
       "      <td>2</td>\n",
       "      <td>47</td>\n",
       "      <td>2</td>\n",
       "      <td>6</td>\n",
       "      <td>2.0</td>\n",
       "      <td>1.0</td>\n",
       "      <td>12.0</td>\n",
       "      <td>4.0</td>\n",
       "      <td>1.0</td>\n",
       "    </tr>\n",
       "    <tr>\n",
       "      <th>194741</th>\n",
       "      <td>7648047-1-1-1</td>\n",
       "      <td>12</td>\n",
       "      <td>1</td>\n",
       "      <td>174.193194</td>\n",
       "      <td>17</td>\n",
       "      <td>1</td>\n",
       "      <td>68</td>\n",
       "      <td>2</td>\n",
       "      <td>6</td>\n",
       "      <td>2.0</td>\n",
       "      <td>1.0</td>\n",
       "      <td>8.0</td>\n",
       "      <td>4.0</td>\n",
       "      <td>2.0</td>\n",
       "    </tr>\n",
       "  </tbody>\n",
       "</table>\n",
       "</div>"
      ],
      "text/plain": [
       "          PRIMARY_KEY  MES  CLASE     FEX_C18  DPTO  SEXO  EDAD  CAMPESINO  \\\n",
       "181716  7642840-1-4-1   12      1  378.534216    13     1    13          2   \n",
       "11443   7400726-1-3-1    4      1  194.485487    66     2    21          2   \n",
       "474097  7469343-1-1-1    6      1  183.628222    52     1    63          2   \n",
       "284267  7337151-1-1-1    1      1  106.150411    70     2    47          2   \n",
       "194741  7648047-1-1-1   12      1  174.193194    17     1    68          2   \n",
       "\n",
       "        CULTURA  EST_CIVIL  LEE  NIVEL_EDUC  EDUC  ATRACCIÓN  \n",
       "181716        6        6.0  1.0         4.0   3.0        NaN  \n",
       "11443         6        6.0  1.0         6.0   2.0        1.0  \n",
       "474097        5        4.0  1.0         3.0   3.0        2.0  \n",
       "284267        6        2.0  1.0        12.0   4.0        1.0  \n",
       "194741        6        2.0  1.0         8.0   4.0        2.0  "
      ]
     },
     "execution_count": 15,
     "metadata": {},
     "output_type": "execute_result"
    }
   ],
   "source": [
    "df.sample(5)"
   ]
  },
  {
   "cell_type": "code",
   "execution_count": 28,
   "metadata": {},
   "outputs": [],
   "source": [
    "df.SEXO = df.SEXO.replace({1: 'Hombre',2: 'Mujer'})"
   ]
  },
  {
   "cell_type": "code",
   "execution_count": 29,
   "metadata": {},
   "outputs": [],
   "source": [
    "# Crear diccionario de departamentos\n",
    "diccionario_dpto = {\n",
    "    5: 'Antioquia',\n",
    "    8: 'Atlántico',\n",
    "    11: 'Bogotá',\n",
    "    13: 'Bolívar',\n",
    "    15: 'Boyacá',\n",
    "    17: 'Caldas',\n",
    "    18: 'Caquetá',\n",
    "    19: 'Cauca',\n",
    "    20: 'Cesar',\n",
    "    23: 'Córdoba',\n",
    "    25: 'Cundinamarca',\n",
    "    27: 'Chocó',\n",
    "    41: 'Huila',\n",
    "    44: 'La Guajira',\n",
    "    47: 'Magdalena',\n",
    "    50: 'Meta',\n",
    "    52: 'Nariño',\n",
    "    54: 'Norte de Santander',\n",
    "    63: 'Quindio',\n",
    "    66: 'Risaralda',\n",
    "    68: 'Santander',\n",
    "    70: 'Sucre',\n",
    "    73: 'Tolima',\n",
    "    76: 'Valle del Cauca'\n",
    "}\n",
    "\n",
    "df['DPTO'] = df['DPTO'].replace(diccionario_dpto)"
   ]
  },
  {
   "cell_type": "code",
   "execution_count": 30,
   "metadata": {},
   "outputs": [],
   "source": [
    "diccionario_est_civ = {\n",
    "    1: 'Pareja < 2',\n",
    "    2: 'Pareja >= 2',\n",
    "    3: 'Casado',\n",
    "    4: 'Separado',\n",
    "    5: 'Viudo',\n",
    "    6: 'Soltero'\n",
    "}\n",
    "df['EST_CIVIL'] = df['EST_CIVIL'].replace(diccionario_est_civ)"
   ]
  },
  {
   "cell_type": "code",
   "execution_count": 31,
   "metadata": {},
   "outputs": [],
   "source": [
    "diccionario_meses = {\n",
    "    1: 'enero',\n",
    "    2: 'febrero',\n",
    "    3: 'marzo',\n",
    "    4: 'abril',\n",
    "    5: 'mayo',\n",
    "    6: 'junio',\n",
    "    7: 'julio',\n",
    "    8: 'agosto',\n",
    "    9: 'septiembre',\n",
    "    10: 'octubre',\n",
    "    11: 'noviembre',\n",
    "    12: 'diciembre'\n",
    "}\n",
    "\n",
    "df['MES'] = df['MES'].replace(diccionario_meses)"
   ]
  },
  {
   "cell_type": "code",
   "execution_count": 32,
   "metadata": {},
   "outputs": [
    {
     "data": {
      "text/html": [
       "<div>\n",
       "<style scoped>\n",
       "    .dataframe tbody tr th:only-of-type {\n",
       "        vertical-align: middle;\n",
       "    }\n",
       "\n",
       "    .dataframe tbody tr th {\n",
       "        vertical-align: top;\n",
       "    }\n",
       "\n",
       "    .dataframe thead th {\n",
       "        text-align: right;\n",
       "    }\n",
       "</style>\n",
       "<table border=\"1\" class=\"dataframe\">\n",
       "  <thead>\n",
       "    <tr style=\"text-align: right;\">\n",
       "      <th></th>\n",
       "      <th>PRIMARY_KEY</th>\n",
       "      <th>MES</th>\n",
       "      <th>CLASE</th>\n",
       "      <th>FEX_C18</th>\n",
       "      <th>DPTO</th>\n",
       "      <th>SEXO</th>\n",
       "      <th>EDAD</th>\n",
       "      <th>CAMPESINO</th>\n",
       "      <th>CULTURA</th>\n",
       "      <th>EST_CIVIL</th>\n",
       "      <th>LEE</th>\n",
       "      <th>NIVEL_EDUC</th>\n",
       "      <th>EDUC</th>\n",
       "      <th>ATRACCIÓN</th>\n",
       "    </tr>\n",
       "  </thead>\n",
       "  <tbody>\n",
       "    <tr>\n",
       "      <th>115992</th>\n",
       "      <td>7527735-1-3-1</td>\n",
       "      <td>agosto</td>\n",
       "      <td>2</td>\n",
       "      <td>1291.184740</td>\n",
       "      <td>Cundinamarca</td>\n",
       "      <td>Hombre</td>\n",
       "      <td>18</td>\n",
       "      <td>1</td>\n",
       "      <td>6</td>\n",
       "      <td>Soltero</td>\n",
       "      <td>1.0</td>\n",
       "      <td>10.0</td>\n",
       "      <td>3.0</td>\n",
       "      <td>2.0</td>\n",
       "    </tr>\n",
       "    <tr>\n",
       "      <th>170897</th>\n",
       "      <td>7638460-1-4-1</td>\n",
       "      <td>diciembre</td>\n",
       "      <td>1</td>\n",
       "      <td>266.548133</td>\n",
       "      <td>Huila</td>\n",
       "      <td>Mujer</td>\n",
       "      <td>13</td>\n",
       "      <td>2</td>\n",
       "      <td>6</td>\n",
       "      <td>Soltero</td>\n",
       "      <td>1.0</td>\n",
       "      <td>4.0</td>\n",
       "      <td>2.0</td>\n",
       "      <td>NaN</td>\n",
       "    </tr>\n",
       "    <tr>\n",
       "      <th>64838</th>\n",
       "      <td>7421981-1-2-1</td>\n",
       "      <td>abril</td>\n",
       "      <td>1</td>\n",
       "      <td>116.058444</td>\n",
       "      <td>Córdoba</td>\n",
       "      <td>Mujer</td>\n",
       "      <td>37</td>\n",
       "      <td>2</td>\n",
       "      <td>6</td>\n",
       "      <td>Pareja &gt;= 2</td>\n",
       "      <td>1.0</td>\n",
       "      <td>5.0</td>\n",
       "      <td>2.0</td>\n",
       "      <td>1.0</td>\n",
       "    </tr>\n",
       "    <tr>\n",
       "      <th>133313</th>\n",
       "      <td>7534501-1-6-1</td>\n",
       "      <td>agosto</td>\n",
       "      <td>1</td>\n",
       "      <td>977.250187</td>\n",
       "      <td>Meta</td>\n",
       "      <td>Hombre</td>\n",
       "      <td>8</td>\n",
       "      <td>2</td>\n",
       "      <td>6</td>\n",
       "      <td>NaN</td>\n",
       "      <td>1.0</td>\n",
       "      <td>3.0</td>\n",
       "      <td>2.0</td>\n",
       "      <td>NaN</td>\n",
       "    </tr>\n",
       "    <tr>\n",
       "      <th>387711</th>\n",
       "      <td>7492222-1-2-1</td>\n",
       "      <td>julio</td>\n",
       "      <td>1</td>\n",
       "      <td>207.915045</td>\n",
       "      <td>Magdalena</td>\n",
       "      <td>Mujer</td>\n",
       "      <td>48</td>\n",
       "      <td>2</td>\n",
       "      <td>6</td>\n",
       "      <td>Pareja &gt;= 2</td>\n",
       "      <td>1.0</td>\n",
       "      <td>5.0</td>\n",
       "      <td>2.0</td>\n",
       "      <td>1.0</td>\n",
       "    </tr>\n",
       "  </tbody>\n",
       "</table>\n",
       "</div>"
      ],
      "text/plain": [
       "          PRIMARY_KEY        MES  CLASE      FEX_C18          DPTO    SEXO  \\\n",
       "115992  7527735-1-3-1     agosto      2  1291.184740  Cundinamarca  Hombre   \n",
       "170897  7638460-1-4-1  diciembre      1   266.548133         Huila   Mujer   \n",
       "64838   7421981-1-2-1      abril      1   116.058444       Córdoba   Mujer   \n",
       "133313  7534501-1-6-1     agosto      1   977.250187          Meta  Hombre   \n",
       "387711  7492222-1-2-1      julio      1   207.915045     Magdalena   Mujer   \n",
       "\n",
       "        EDAD  CAMPESINO  CULTURA    EST_CIVIL  LEE  NIVEL_EDUC  EDUC  \\\n",
       "115992    18          1        6      Soltero  1.0        10.0   3.0   \n",
       "170897    13          2        6      Soltero  1.0         4.0   2.0   \n",
       "64838     37          2        6  Pareja >= 2  1.0         5.0   2.0   \n",
       "133313     8          2        6          NaN  1.0         3.0   2.0   \n",
       "387711    48          2        6  Pareja >= 2  1.0         5.0   2.0   \n",
       "\n",
       "        ATRACCIÓN  \n",
       "115992        2.0  \n",
       "170897        NaN  \n",
       "64838         1.0  \n",
       "133313        NaN  \n",
       "387711        1.0  "
      ]
     },
     "execution_count": 32,
     "metadata": {},
     "output_type": "execute_result"
    }
   ],
   "source": [
    "df.sample(5)"
   ]
  },
  {
   "cell_type": "code",
   "execution_count": 36,
   "metadata": {},
   "outputs": [
    {
     "data": {
      "text/plain": [
       "PRIMARY_KEY         0\n",
       "MES                 0\n",
       "CLASE               0\n",
       "FEX_C18             0\n",
       "DPTO                0\n",
       "SEXO                0\n",
       "EDAD                0\n",
       "CAMPESINO           0\n",
       "CULTURA             0\n",
       "EST_CIVIL      117768\n",
       "LEE             29693\n",
       "NIVEL_EDUC      29693\n",
       "EDUC            29693\n",
       "ATRACCIÓN      229317\n",
       "dtype: int64"
      ]
     },
     "execution_count": 36,
     "metadata": {},
     "output_type": "execute_result"
    }
   ],
   "source": [
    "# Validación de datos faltantes\n",
    "\n",
    "df.isna().sum()"
   ]
  },
  {
   "cell_type": "code",
   "execution_count": 37,
   "metadata": {},
   "outputs": [],
   "source": [
    "# Elimaré la variable atracción\n",
    "\n",
    "df.drop('ATRACCIÓN',axis=1,inplace=True)"
   ]
  },
  {
   "cell_type": "code",
   "execution_count": 38,
   "metadata": {},
   "outputs": [
    {
     "name": "stdout",
     "output_type": "stream",
     "text": [
      "<class 'pandas.core.frame.DataFrame'>\n",
      "RangeIndex: 860802 entries, 0 to 860801\n",
      "Data columns (total 13 columns):\n",
      " #   Column       Non-Null Count   Dtype  \n",
      "---  ------       --------------   -----  \n",
      " 0   PRIMARY_KEY  860802 non-null  object \n",
      " 1   MES          860802 non-null  object \n",
      " 2   CLASE        860802 non-null  int64  \n",
      " 3   FEX_C18      860802 non-null  float64\n",
      " 4   DPTO         860802 non-null  object \n",
      " 5   SEXO         860802 non-null  object \n",
      " 6   EDAD         860802 non-null  int64  \n",
      " 7   CAMPESINO    860802 non-null  int64  \n",
      " 8   CULTURA      860802 non-null  int64  \n",
      " 9   EST_CIVIL    743034 non-null  object \n",
      " 10  LEE          831109 non-null  float64\n",
      " 11  NIVEL_EDUC   831109 non-null  float64\n",
      " 12  EDUC         831109 non-null  float64\n",
      "dtypes: float64(4), int64(4), object(5)\n",
      "memory usage: 85.4+ MB\n"
     ]
    }
   ],
   "source": [
    "df.info()"
   ]
  },
  {
   "cell_type": "code",
   "execution_count": 46,
   "metadata": {},
   "outputs": [
    {
     "data": {
      "text/plain": [
       "1.137003234632206"
      ]
     },
     "execution_count": 46,
     "metadata": {},
     "output_type": "execute_result"
    }
   ],
   "source": [
    "df.SEXO.value_counts(normalize=True) * 100 #Frecuencia absoluta (fi) y relativa (ni)\n",
    "53.205499 / 46.794501"
   ]
  },
  {
   "cell_type": "code",
   "execution_count": 47,
   "metadata": {},
   "outputs": [
    {
     "name": "stderr",
     "output_type": "stream",
     "text": [
      "C:\\Users\\Julian\\AppData\\Local\\Temp\\ipykernel_16124\\63727334.py:8: FutureWarning: \n",
      "\n",
      "Passing `palette` without assigning `hue` is deprecated and will be removed in v0.14.0. Assign the `x` variable to `hue` and set `legend=False` for the same effect.\n",
      "\n",
      "  sns.countplot(data=df,x='MES',palette='Set3')\n"
     ]
    },
    {
     "data": {
      "image/png": "[encoded data removed]",
      "text/plain": [
       "<Figure size 1100x300 with 1 Axes>"
      ]
     },
     "metadata": {},
     "output_type": "display_data"
    }
   ],
   "source": [
    "# Qué hacer con los datos perdidos\n",
    "# 1. Métodos de imputación de datos\n",
    "# 2. Eliminación de datos\n",
    "\n",
    "# Cómo se distribuyen los NA a través de los meses\n",
    "\n",
    "plt.figure(figsize=(11,3))\n",
    "sns.countplot(data=df,x='MES',palette='Set3')\n",
    "plt.xlabel('Mes')\n",
    "plt.ylabel('Datos perdidos')\n",
    "plt.title('Distribución de datos perdidos por mes')\n",
    "plt.show()"
   ]
  },
  {
   "cell_type": "code",
   "execution_count": 50,
   "metadata": {},
   "outputs": [],
   "source": [
    "df['FALTANTES'] = df.isna().any(axis=1)"
   ]
  },
  {
   "cell_type": "code",
   "execution_count": 51,
   "metadata": {},
   "outputs": [
    {
     "data": {
      "text/plain": [
       "MES\n",
       "abril          9970\n",
       "agosto         9775\n",
       "diciembre      9375\n",
       "enero         10251\n",
       "febrero       10212\n",
       "julio          9722\n",
       "junio         10161\n",
       "marzo         10066\n",
       "mayo           9785\n",
       "noviembre      9516\n",
       "octubre        9311\n",
       "septiembre     9624\n",
       "Name: FALTANTES, dtype: int64"
      ]
     },
     "execution_count": 51,
     "metadata": {},
     "output_type": "execute_result"
    }
   ],
   "source": [
    "df.groupby('MES')['FALTANTES'].sum()"
   ]
  },
  {
   "cell_type": "code",
   "execution_count": 53,
   "metadata": {},
   "outputs": [
    {
     "name": "stdout",
     "output_type": "stream",
     "text": [
      "<class 'pandas.core.frame.DataFrame'>\n",
      "RangeIndex: 860802 entries, 0 to 860801\n",
      "Data columns (total 14 columns):\n",
      " #   Column       Non-Null Count   Dtype  \n",
      "---  ------       --------------   -----  \n",
      " 0   PRIMARY_KEY  860802 non-null  object \n",
      " 1   MES          860802 non-null  object \n",
      " 2   CLASE        860802 non-null  int64  \n",
      " 3   FEX_C18      860802 non-null  float64\n",
      " 4   DPTO         860802 non-null  object \n",
      " 5   SEXO         860802 non-null  object \n",
      " 6   EDAD         860802 non-null  int64  \n",
      " 7   CAMPESINO    860802 non-null  int64  \n",
      " 8   CULTURA      860802 non-null  int64  \n",
      " 9   EST_CIVIL    743034 non-null  object \n",
      " 10  LEE          831109 non-null  float64\n",
      " 11  NIVEL_EDUC   831109 non-null  float64\n",
      " 12  EDUC         831109 non-null  float64\n",
      " 13  FALTANTES    860802 non-null  bool   \n",
      "dtypes: bool(1), float64(4), int64(4), object(5)\n",
      "memory usage: 86.2+ MB\n"
     ]
    }
   ],
   "source": [
    "df.info()"
   ]
  },
  {
   "cell_type": "code",
   "execution_count": 56,
   "metadata": {},
   "outputs": [],
   "source": [
    "100 * (860802 - 831109) / 860802 #porcentaje de datos perdidos (recomendación: no supere el 1%)\n",
    "\n",
    "df.dropna(subset=['NIVEL_EDUC'],inplace=True)"
   ]
  },
  {
   "cell_type": "code",
   "execution_count": 57,
   "metadata": {},
   "outputs": [
    {
     "data": {
      "text/plain": [
       "PRIMARY_KEY        0\n",
       "MES                0\n",
       "CLASE              0\n",
       "FEX_C18            0\n",
       "DPTO               0\n",
       "SEXO               0\n",
       "EDAD               0\n",
       "CAMPESINO          0\n",
       "CULTURA            0\n",
       "EST_CIVIL      88075\n",
       "LEE                0\n",
       "NIVEL_EDUC         0\n",
       "EDUC               0\n",
       "FALTANTES          0\n",
       "dtype: int64"
      ]
     },
     "execution_count": 57,
     "metadata": {},
     "output_type": "execute_result"
    }
   ],
   "source": [
    "df.isna().sum()"
   ]
  },
  {
   "cell_type": "code",
   "execution_count": 64,
   "metadata": {},
   "outputs": [
    {
     "data": {
      "text/plain": [
       "92"
      ]
     },
     "execution_count": 64,
     "metadata": {},
     "output_type": "execute_result"
    }
   ],
   "source": [
    "min(df.EDAD), max(df.EDAD)\n",
    "\n",
    "len(df[df.EDAD > 100])"
   ]
  },
  {
   "cell_type": "code",
   "execution_count": 66,
   "metadata": {},
   "outputs": [
    {
     "data": {
      "text/plain": [
       "25"
      ]
     },
     "execution_count": 66,
     "metadata": {},
     "output_type": "execute_result"
    }
   ],
   "source": [
    "min(df.NIVEL_EDUC ), max(df.NIVEL_EDUC )\n",
    "\n",
    "len(df[df.NIVEL_EDUC == 99])"
   ]
  },
  {
   "cell_type": "markdown",
   "metadata": {},
   "source": [
    "## Exploración de variables cualitativas"
   ]
  },
  {
   "cell_type": "code",
   "execution_count": 72,
   "metadata": {},
   "outputs": [],
   "source": [
    "freq_sex = df.SEXO.value_counts(normalize=True)\n",
    "etiquetas = freq_sex.index"
   ]
  },
  {
   "cell_type": "code",
   "execution_count": 80,
   "metadata": {},
   "outputs": [
    {
     "data": {
      "image/png": "[encoded data removed]",
      "text/plain": [
       "<Figure size 640x480 with 1 Axes>"
      ]
     },
     "metadata": {},
     "output_type": "display_data"
    }
   ],
   "source": [
    "plt.pie(freq_sex,explode=(0.1,0),autopct= '%1.2f%%',colors=['red','orange'],startangle=140)\n",
    "plt.title('Composición por sexo')\n",
    "plt.show()"
   ]
  },
  {
   "cell_type": "code",
   "execution_count": 83,
   "metadata": {},
   "outputs": [
    {
     "data": {
      "text/plain": [
       "DPTO\n",
       "Antioquia             5.905844\n",
       "Valle del Cauca       5.197032\n",
       "Santander             4.812485\n",
       "Caldas                4.662926\n",
       "Bolívar               4.556683\n",
       "Atlántico             4.505306\n",
       "Risaralda             4.354303\n",
       "Nariño                4.287043\n",
       "Magdalena             4.253714\n",
       "Norte de Santander    3.994302\n",
       "Sucre                 3.975411\n",
       "Meta                  3.898526\n",
       "La Guajira            3.840772\n",
       "Chocó                 3.788071\n",
       "Cesar                 3.661975\n",
       "Cauca                 3.649341\n",
       "Quindio               3.631172\n",
       "Huila                 3.436974\n",
       "Boyacá                3.335423\n",
       "Caquetá               3.319059\n",
       "Córdoba               3.316653\n",
       "Tolima                3.313765\n",
       "Bogotá                3.087682\n",
       "Cundinamarca          1.868828\n",
       "88                    1.082169\n",
       "81                    0.626392\n",
       "97                    0.593544\n",
       "85                    0.593424\n",
       "91                    0.529172\n",
       "94                    0.525924\n",
       "95                    0.511004\n",
       "86                    0.471057\n",
       "99                    0.414025\n",
       "Name: proportion, dtype: float64"
      ]
     },
     "execution_count": 83,
     "metadata": {},
     "output_type": "execute_result"
    }
   ],
   "source": [
    "df.DPTO.value_counts(normalize=True) * 100"
   ]
  },
  {
   "cell_type": "code",
   "execution_count": 86,
   "metadata": {},
   "outputs": [
    {
     "data": {
      "image/png": "[encoded data removed]",
      "text/plain": [
       "<Figure size 1200x400 with 1 Axes>"
      ]
     },
     "metadata": {},
     "output_type": "display_data"
    }
   ],
   "source": [
    "# Cruzar dos variables cualitativas\n",
    "\n",
    "sns.set_style('whitegrid')\n",
    "\n",
    "plt.figure(figsize=(12,4))\n",
    "sns.countplot(x='DPTO',hue='SEXO',data=df,palette='muted',dodge=True)\n",
    "\n",
    "plt.xlabel('Departamento')\n",
    "plt.ylabel('Número de registros')\n",
    "plt.title('Distribución de sexo por departamento')\n",
    "plt.xticks(rotation = 'vertical')\n",
    "\n",
    "plt.show()\n"
   ]
  },
  {
   "cell_type": "code",
   "execution_count": 87,
   "metadata": {},
   "outputs": [
    {
     "data": {
      "image/png": "[encoded data removed]",
      "text/plain": [
       "<Figure size 1100x300 with 1 Axes>"
      ]
     },
     "metadata": {},
     "output_type": "display_data"
    }
   ],
   "source": [
    "plt.figure(figsize=(11,3))\n",
    "\n",
    "sns.countplot(x='EST_CIVIL',data=df, palette='Set2',hue='SEXO')\n",
    "plt.title('Estado civil por sexo')\n",
    "plt.xlabel('Estado civil')\n",
    "plt.ylabel('Sexo')\n",
    "plt.xticks(rotation = 'vertical')\n",
    "plt.show()"
   ]
  },
  {
   "cell_type": "code",
   "execution_count": null,
   "metadata": {},
   "outputs": [],
   "source": []
  },
  {
   "cell_type": "code",
   "execution_count": null,
   "metadata": {},
   "outputs": [],
   "source": []
  },
  {
   "cell_type": "code",
   "execution_count": null,
   "metadata": {},
   "outputs": [],
   "source": []
  },
  {
   "cell_type": "code",
   "execution_count": null,
   "metadata": {},
   "outputs": [],
   "source": []
  }
 ],
 "metadata": {
  "kernelspec": {
   "display_name": "Python 3",
   "language": "python",
   "name": "python3"
  },
  "language_info": {
   "codemirror_mode": {
    "name": "ipython",
    "version": 3
   },
   "file_extension": ".py",
   "mimetype": "text/x-python",
   "name": "python",
   "nbconvert_exporter": "python",
   "pygments_lexer": "ipython3",
   "version": "3.12.2"
  }
 },
 "nbformat": 4,
 "nbformat_minor": 2
}
